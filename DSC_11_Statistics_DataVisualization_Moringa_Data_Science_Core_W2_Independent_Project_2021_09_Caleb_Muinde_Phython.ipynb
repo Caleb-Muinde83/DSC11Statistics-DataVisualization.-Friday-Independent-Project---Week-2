{
  "nbformat": 4,
  "nbformat_minor": 0,
  "metadata": {
    "colab": {
      "name": "DSC 11 Statistics-DataVisualization_Moringa_Data_Science_Core_W2_Independent_Project_2021_09_Caleb_Muinde_Phython",
      "provenance": [],
      "collapsed_sections": []
    },
    "kernelspec": {
      "name": "python3",
      "display_name": "Python 3"
    },
    "language_info": {
      "name": "python"
    }
  },
  "cells": [
    {
      "cell_type": "markdown",
      "metadata": {
        "id": "mDRWKUEn3ZDj"
      },
      "source": [
        "## 1. Defining the Question"
      ]
    },
    {
      "cell_type": "markdown",
      "metadata": {
        "id": "jOw1tHmo34Gi"
      },
      "source": [
        "**WEEK 2 CORE IP**\n",
        "\n",
        "The research problem is **to figure out how we can predict which individuals are most likely to have or use a bank account.** Your solution will help provide an indication of the state of financial inclusion in Kenya, Rwanda, Tanzania, and Uganda, while providing insights into some of the key demographic factors that might drive individuals’ financial outcomes.\n",
        "\n",
        "In order to work on the above problem, you need to do the following:\n",
        "\n",
        "1. Define the question, the metric for success, the context, experimental design taken and the appropriateness of the available data to answer the given question\n",
        "2. Find and deal with outliers, anomalies, and missing data within the dataset.\n",
        "3. Perform univariate, bivariate and multivariate analysis recording your observations.\n",
        "4. Implement the solution by performing the respective analysis i.e. factor analysis, principal component analysis, and discriminant analysis.\n",
        "5. Challenge your solution by providing insights on how you can make improvements."
      ]
    },
    {
      "cell_type": "markdown",
      "metadata": {
        "id": "_x6nMNBM359L"
      },
      "source": [
        "### b) Defining the Metric for Success"
      ]
    },
    {
      "cell_type": "markdown",
      "metadata": {
        "id": "-6a59Oyu39OC"
      },
      "source": [
        "### d) Recording the Experimental Design"
      ]
    },
    {
      "cell_type": "markdown",
      "metadata": {
        "id": "SaGEBHBL4A0a"
      },
      "source": [
        "## 2. Reading the Data"
      ]
    },
    {
      "cell_type": "code",
      "metadata": {
        "id": "Yr__vVePLgaN"
      },
      "source": [
        "# Importing Pandas\n",
        "# \n",
        "import pandas as pd\n",
        "\n",
        "# Importing Numpy\n",
        "#\n",
        "import numpy as np\n",
        "\n",
        "# Importing Seaborn\n",
        "#\n",
        "import seaborn as sns\n",
        "\n",
        "# Importing Matplotlib\n",
        "#\n",
        "import matplotlib.pyplot as plt\n",
        "\n",
        "import scipy.stats as stats\n",
        "\n",
        "from scipy.stats import ttest_1samp\n",
        " "
      ],
      "execution_count": 151,
      "outputs": []
    },
    {
      "cell_type": "code",
      "metadata": {
        "colab": {
          "base_uri": "https://localhost:8080/",
          "height": 421
        },
        "id": "nYdMijC2cbrw",
        "outputId": "cdcd79f6-3cf2-4737-921c-b134e7ce8e5f"
      },
      "source": [
        "# Dataset decsription\n",
        "#\n",
        "df0 = pd.read_csv(\"http://bit.ly/VariableDefinitions\")\n",
        "df0"
      ],
      "execution_count": null,
      "outputs": [
        {
          "output_type": "execute_result",
          "data": {
            "text/html": [
              "<div>\n",
              "<style scoped>\n",
              "    .dataframe tbody tr th:only-of-type {\n",
              "        vertical-align: middle;\n",
              "    }\n",
              "\n",
              "    .dataframe tbody tr th {\n",
              "        vertical-align: top;\n",
              "    }\n",
              "\n",
              "    .dataframe thead th {\n",
              "        text-align: right;\n",
              "    }\n",
              "</style>\n",
              "<table border=\"1\" class=\"dataframe\">\n",
              "  <thead>\n",
              "    <tr style=\"text-align: right;\">\n",
              "      <th></th>\n",
              "      <th>Variable Definitions</th>\n",
              "      <th>Unnamed: 1</th>\n",
              "    </tr>\n",
              "  </thead>\n",
              "  <tbody>\n",
              "    <tr>\n",
              "      <th>0</th>\n",
              "      <td>country</td>\n",
              "      <td>Country interviewee is in.</td>\n",
              "    </tr>\n",
              "    <tr>\n",
              "      <th>1</th>\n",
              "      <td>year</td>\n",
              "      <td>Year survey was done in.</td>\n",
              "    </tr>\n",
              "    <tr>\n",
              "      <th>2</th>\n",
              "      <td>uniqueid</td>\n",
              "      <td>Unique identifier for each interviewee</td>\n",
              "    </tr>\n",
              "    <tr>\n",
              "      <th>3</th>\n",
              "      <td>location_type</td>\n",
              "      <td>Type of location: Rural, Urban</td>\n",
              "    </tr>\n",
              "    <tr>\n",
              "      <th>4</th>\n",
              "      <td>cellphone_access</td>\n",
              "      <td>If interviewee has access to a cellphone: Yes, No</td>\n",
              "    </tr>\n",
              "    <tr>\n",
              "      <th>5</th>\n",
              "      <td>household_size</td>\n",
              "      <td>Number of people living in one house</td>\n",
              "    </tr>\n",
              "    <tr>\n",
              "      <th>6</th>\n",
              "      <td>age_of_respondent</td>\n",
              "      <td>The age of the interviewee</td>\n",
              "    </tr>\n",
              "    <tr>\n",
              "      <th>7</th>\n",
              "      <td>gender_of_respondent</td>\n",
              "      <td>Gender of interviewee: Male, Female</td>\n",
              "    </tr>\n",
              "    <tr>\n",
              "      <th>8</th>\n",
              "      <td>relationship_with_head</td>\n",
              "      <td>The interviewee’s relationship with the head o...</td>\n",
              "    </tr>\n",
              "    <tr>\n",
              "      <th>9</th>\n",
              "      <td>marital_status</td>\n",
              "      <td>The martial status of the interviewee: Married...</td>\n",
              "    </tr>\n",
              "    <tr>\n",
              "      <th>10</th>\n",
              "      <td>education_level</td>\n",
              "      <td>Highest level of education: No formal educatio...</td>\n",
              "    </tr>\n",
              "    <tr>\n",
              "      <th>11</th>\n",
              "      <td>job_type</td>\n",
              "      <td>Type of job interviewee has: Farming and Fishi...</td>\n",
              "    </tr>\n",
              "  </tbody>\n",
              "</table>\n",
              "</div>"
            ],
            "text/plain": [
              "      Variable Definitions                                         Unnamed: 1\n",
              "0                  country                         Country interviewee is in.\n",
              "1                     year                           Year survey was done in.\n",
              "2                 uniqueid             Unique identifier for each interviewee\n",
              "3            location_type                     Type of location: Rural, Urban\n",
              "4         cellphone_access  If interviewee has access to a cellphone: Yes, No\n",
              "5           household_size               Number of people living in one house\n",
              "6        age_of_respondent                         The age of the interviewee\n",
              "7     gender_of_respondent                Gender of interviewee: Male, Female\n",
              "8   relationship_with_head  The interviewee’s relationship with the head o...\n",
              "9           marital_status  The martial status of the interviewee: Married...\n",
              "10         education_level  Highest level of education: No formal educatio...\n",
              "11                job_type  Type of job interviewee has: Farming and Fishi..."
            ]
          },
          "metadata": {},
          "execution_count": 29
        }
      ]
    },
    {
      "cell_type": "code",
      "metadata": {
        "colab": {
          "base_uri": "https://localhost:8080/",
          "height": 377
        },
        "id": "PrjFQZWbX8OM",
        "outputId": "5e6520ba-5a94-41b6-95e3-4758db10a881"
      },
      "source": [
        "# Reading and previewing the dataset\n",
        "#\n",
        "url = \"http://bit.ly/FinancialDataset\"\n",
        "df = pd.read_csv(url)\n",
        "\n",
        "# previedthe first five rows od the dataset\n",
        "df.head(5)"
      ],
      "execution_count": null,
      "outputs": [
        {
          "output_type": "execute_result",
          "data": {
            "text/html": [
              "<div>\n",
              "<style scoped>\n",
              "    .dataframe tbody tr th:only-of-type {\n",
              "        vertical-align: middle;\n",
              "    }\n",
              "\n",
              "    .dataframe tbody tr th {\n",
              "        vertical-align: top;\n",
              "    }\n",
              "\n",
              "    .dataframe thead th {\n",
              "        text-align: right;\n",
              "    }\n",
              "</style>\n",
              "<table border=\"1\" class=\"dataframe\">\n",
              "  <thead>\n",
              "    <tr style=\"text-align: right;\">\n",
              "      <th></th>\n",
              "      <th>country</th>\n",
              "      <th>year</th>\n",
              "      <th>uniqueid</th>\n",
              "      <th>Has a Bank account</th>\n",
              "      <th>Type of Location</th>\n",
              "      <th>Cell Phone Access</th>\n",
              "      <th>household_size</th>\n",
              "      <th>Respondent Age</th>\n",
              "      <th>gender_of_respondent</th>\n",
              "      <th>The relathip with head</th>\n",
              "      <th>marital_status</th>\n",
              "      <th>Level of Educuation</th>\n",
              "      <th>Type of Job</th>\n",
              "    </tr>\n",
              "  </thead>\n",
              "  <tbody>\n",
              "    <tr>\n",
              "      <th>0</th>\n",
              "      <td>Kenya</td>\n",
              "      <td>2018</td>\n",
              "      <td>uniqueid_1</td>\n",
              "      <td>Yes</td>\n",
              "      <td>Rural</td>\n",
              "      <td>Yes</td>\n",
              "      <td>3.0</td>\n",
              "      <td>24.0</td>\n",
              "      <td>Female</td>\n",
              "      <td>Spouse</td>\n",
              "      <td>Married/Living together</td>\n",
              "      <td>Secondary education</td>\n",
              "      <td>Self employed</td>\n",
              "    </tr>\n",
              "    <tr>\n",
              "      <th>1</th>\n",
              "      <td>Kenya</td>\n",
              "      <td>2018</td>\n",
              "      <td>uniqueid_2</td>\n",
              "      <td>No</td>\n",
              "      <td>Rural</td>\n",
              "      <td>No</td>\n",
              "      <td>5.0</td>\n",
              "      <td>70.0</td>\n",
              "      <td>Female</td>\n",
              "      <td>Head of Household</td>\n",
              "      <td>Widowed</td>\n",
              "      <td>No formal education</td>\n",
              "      <td>Government Dependent</td>\n",
              "    </tr>\n",
              "    <tr>\n",
              "      <th>2</th>\n",
              "      <td>Kenya</td>\n",
              "      <td>2018</td>\n",
              "      <td>uniqueid_3</td>\n",
              "      <td>Yes</td>\n",
              "      <td>Urban</td>\n",
              "      <td>Yes</td>\n",
              "      <td>5.0</td>\n",
              "      <td>26.0</td>\n",
              "      <td>Male</td>\n",
              "      <td>Other relative</td>\n",
              "      <td>Single/Never Married</td>\n",
              "      <td>Vocational/Specialised training</td>\n",
              "      <td>Self employed</td>\n",
              "    </tr>\n",
              "    <tr>\n",
              "      <th>3</th>\n",
              "      <td>Kenya</td>\n",
              "      <td>2018</td>\n",
              "      <td>uniqueid_4</td>\n",
              "      <td>No</td>\n",
              "      <td>Rural</td>\n",
              "      <td>Yes</td>\n",
              "      <td>5.0</td>\n",
              "      <td>34.0</td>\n",
              "      <td>Female</td>\n",
              "      <td>Head of Household</td>\n",
              "      <td>Married/Living together</td>\n",
              "      <td>Primary education</td>\n",
              "      <td>Formally employed Private</td>\n",
              "    </tr>\n",
              "    <tr>\n",
              "      <th>4</th>\n",
              "      <td>Kenya</td>\n",
              "      <td>2018</td>\n",
              "      <td>uniqueid_5</td>\n",
              "      <td>No</td>\n",
              "      <td>Urban</td>\n",
              "      <td>No</td>\n",
              "      <td>8.0</td>\n",
              "      <td>26.0</td>\n",
              "      <td>Male</td>\n",
              "      <td>Child</td>\n",
              "      <td>Single/Never Married</td>\n",
              "      <td>Primary education</td>\n",
              "      <td>Informally employed</td>\n",
              "    </tr>\n",
              "  </tbody>\n",
              "</table>\n",
              "</div>"
            ],
            "text/plain": [
              "  country  year  ...              Level of Educuation                Type of Job\n",
              "0   Kenya  2018  ...              Secondary education              Self employed\n",
              "1   Kenya  2018  ...              No formal education       Government Dependent\n",
              "2   Kenya  2018  ...  Vocational/Specialised training              Self employed\n",
              "3   Kenya  2018  ...                Primary education  Formally employed Private\n",
              "4   Kenya  2018  ...                Primary education        Informally employed\n",
              "\n",
              "[5 rows x 13 columns]"
            ]
          },
          "metadata": {},
          "execution_count": 30
        }
      ]
    },
    {
      "cell_type": "code",
      "metadata": {
        "colab": {
          "base_uri": "https://localhost:8080/",
          "height": 340
        },
        "id": "3Wn6suYTabFE",
        "outputId": "35567b61-0a6f-4620-a34b-8f574aab12e3"
      },
      "source": [
        "# previedthe last five rows od the dataset\n",
        "df.tail(5)"
      ],
      "execution_count": null,
      "outputs": [
        {
          "output_type": "execute_result",
          "data": {
            "text/html": [
              "<div>\n",
              "<style scoped>\n",
              "    .dataframe tbody tr th:only-of-type {\n",
              "        vertical-align: middle;\n",
              "    }\n",
              "\n",
              "    .dataframe tbody tr th {\n",
              "        vertical-align: top;\n",
              "    }\n",
              "\n",
              "    .dataframe thead th {\n",
              "        text-align: right;\n",
              "    }\n",
              "</style>\n",
              "<table border=\"1\" class=\"dataframe\">\n",
              "  <thead>\n",
              "    <tr style=\"text-align: right;\">\n",
              "      <th></th>\n",
              "      <th>country</th>\n",
              "      <th>year</th>\n",
              "      <th>uniqueid</th>\n",
              "      <th>Has a Bank account</th>\n",
              "      <th>Type of Location</th>\n",
              "      <th>Cell Phone Access</th>\n",
              "      <th>household_size</th>\n",
              "      <th>Respondent Age</th>\n",
              "      <th>gender_of_respondent</th>\n",
              "      <th>The relathip with head</th>\n",
              "      <th>marital_status</th>\n",
              "      <th>Level of Educuation</th>\n",
              "      <th>Type of Job</th>\n",
              "    </tr>\n",
              "  </thead>\n",
              "  <tbody>\n",
              "    <tr>\n",
              "      <th>23519</th>\n",
              "      <td>Uganda</td>\n",
              "      <td>2018</td>\n",
              "      <td>uniqueid_2113</td>\n",
              "      <td>No</td>\n",
              "      <td>Rural</td>\n",
              "      <td>Yes</td>\n",
              "      <td>4.0</td>\n",
              "      <td>48.0</td>\n",
              "      <td>Female</td>\n",
              "      <td>Head of Household</td>\n",
              "      <td>Divorced/Seperated</td>\n",
              "      <td>No formal education</td>\n",
              "      <td>Other Income</td>\n",
              "    </tr>\n",
              "    <tr>\n",
              "      <th>23520</th>\n",
              "      <td>Uganda</td>\n",
              "      <td>2018</td>\n",
              "      <td>uniqueid_2114</td>\n",
              "      <td>No</td>\n",
              "      <td>Rural</td>\n",
              "      <td>Yes</td>\n",
              "      <td>2.0</td>\n",
              "      <td>27.0</td>\n",
              "      <td>Female</td>\n",
              "      <td>Head of Household</td>\n",
              "      <td>Single/Never Married</td>\n",
              "      <td>Secondary education</td>\n",
              "      <td>Other Income</td>\n",
              "    </tr>\n",
              "    <tr>\n",
              "      <th>23521</th>\n",
              "      <td>Uganda</td>\n",
              "      <td>2018</td>\n",
              "      <td>uniqueid_2115</td>\n",
              "      <td>No</td>\n",
              "      <td>Rural</td>\n",
              "      <td>Yes</td>\n",
              "      <td>5.0</td>\n",
              "      <td>27.0</td>\n",
              "      <td>Female</td>\n",
              "      <td>Parent</td>\n",
              "      <td>Widowed</td>\n",
              "      <td>Primary education</td>\n",
              "      <td>Other Income</td>\n",
              "    </tr>\n",
              "    <tr>\n",
              "      <th>23522</th>\n",
              "      <td>Uganda</td>\n",
              "      <td>2018</td>\n",
              "      <td>uniqueid_2116</td>\n",
              "      <td>No</td>\n",
              "      <td>Urban</td>\n",
              "      <td>Yes</td>\n",
              "      <td>7.0</td>\n",
              "      <td>30.0</td>\n",
              "      <td>Female</td>\n",
              "      <td>Parent</td>\n",
              "      <td>Divorced/Seperated</td>\n",
              "      <td>Secondary education</td>\n",
              "      <td>Self employed</td>\n",
              "    </tr>\n",
              "    <tr>\n",
              "      <th>23523</th>\n",
              "      <td>Uganda</td>\n",
              "      <td>2018</td>\n",
              "      <td>uniqueid_2117</td>\n",
              "      <td>No</td>\n",
              "      <td>Rural</td>\n",
              "      <td>Yes</td>\n",
              "      <td>10.0</td>\n",
              "      <td>20.0</td>\n",
              "      <td>Male</td>\n",
              "      <td>Child</td>\n",
              "      <td>Single/Never Married</td>\n",
              "      <td>Secondary education</td>\n",
              "      <td>No Income</td>\n",
              "    </tr>\n",
              "  </tbody>\n",
              "</table>\n",
              "</div>"
            ],
            "text/plain": [
              "      country  year  ...  Level of Educuation    Type of Job\n",
              "23519  Uganda  2018  ...  No formal education   Other Income\n",
              "23520  Uganda  2018  ...  Secondary education   Other Income\n",
              "23521  Uganda  2018  ...    Primary education   Other Income\n",
              "23522  Uganda  2018  ...  Secondary education  Self employed\n",
              "23523  Uganda  2018  ...  Secondary education      No Income\n",
              "\n",
              "[5 rows x 13 columns]"
            ]
          },
          "metadata": {},
          "execution_count": 31
        }
      ]
    },
    {
      "cell_type": "markdown",
      "metadata": {
        "id": "09tECrs7ammr"
      },
      "source": [
        "## 3. Checking the Data"
      ]
    },
    {
      "cell_type": "code",
      "metadata": {
        "colab": {
          "base_uri": "https://localhost:8080/"
        },
        "id": "8GvjYMmGasGN",
        "outputId": "4947bf75-2531-4415-939b-cd1345fd4fbb"
      },
      "source": [
        "# Checking the dataset size, shape and info\n",
        "def size_shape(data):\n",
        "    return data.info(), data.shape, data.size\n",
        "\n",
        "\n",
        "size_shape(df)"
      ],
      "execution_count": null,
      "outputs": [
        {
          "output_type": "stream",
          "name": "stdout",
          "text": [
            "<class 'pandas.core.frame.DataFrame'>\n",
            "RangeIndex: 23524 entries, 0 to 23523\n",
            "Data columns (total 13 columns):\n",
            " #   Column                  Non-Null Count  Dtype  \n",
            "---  ------                  --------------  -----  \n",
            " 0   country                 23510 non-null  object \n",
            " 1   year                    23524 non-null  int64  \n",
            " 2   uniqueid                23524 non-null  object \n",
            " 3   Has a Bank account      23488 non-null  object \n",
            " 4   Type of Location        23509 non-null  object \n",
            " 5   Cell Phone Access       23513 non-null  object \n",
            " 6   household_size          23496 non-null  float64\n",
            " 7   Respondent Age          23490 non-null  float64\n",
            " 8   gender_of_respondent    23490 non-null  object \n",
            " 9   The relathip with head  23520 non-null  object \n",
            " 10  marital_status          23492 non-null  object \n",
            " 11  Level of Educuation     23495 non-null  object \n",
            " 12  Type of Job             23494 non-null  object \n",
            "dtypes: float64(2), int64(1), object(10)\n",
            "memory usage: 2.3+ MB\n"
          ]
        },
        {
          "output_type": "execute_result",
          "data": {
            "text/plain": [
              "(None, (23524, 13), 305812)"
            ]
          },
          "metadata": {},
          "execution_count": 32
        }
      ]
    },
    {
      "cell_type": "markdown",
      "metadata": {
        "id": "K5kq56bI4rys"
      },
      "source": [
        "## 4. External Data Source Validation"
      ]
    },
    {
      "cell_type": "markdown",
      "metadata": {
        "id": "A3uZfZic_UaI"
      },
      "source": [
        "### a.Validation"
      ]
    },
    {
      "cell_type": "code",
      "metadata": {
        "colab": {
          "base_uri": "https://localhost:8080/"
        },
        "id": "1BFMtOFEvpaN",
        "outputId": "5cb60f57-db31-4e90-bae1-4b69a43a86fa"
      },
      "source": [
        "# Accuracy\n",
        "# \n",
        "df.nunique()\n",
        "# Data is valid in that it only contains data from the four countrues we are intresinterested in (kenya,Ugand,tanzania and Rwanda)"
      ],
      "execution_count": null,
      "outputs": [
        {
          "output_type": "execute_result",
          "data": {
            "text/plain": [
              "country                      4\n",
              "year                         6\n",
              "uniqueid                  8735\n",
              "Has a Bank account           2\n",
              "Type of Location             2\n",
              "Cell Phone Access            2\n",
              "household_size              21\n",
              "Respondent Age              85\n",
              "gender_of_respondent         2\n",
              "The relathip with head       6\n",
              "marital_status               5\n",
              "Level of Educuation          7\n",
              "Type of Job                 10\n",
              "dtype: int64"
            ]
          },
          "metadata": {},
          "execution_count": 33
        }
      ]
    },
    {
      "cell_type": "code",
      "metadata": {
        "colab": {
          "base_uri": "https://localhost:8080/",
          "height": 360
        },
        "id": "3q50FLw_6W__",
        "outputId": "477be634-6901-44e3-fa18-2b009cfb6b65"
      },
      "source": [
        "# Checking if there was data collected from people bellow the age of consent if the four countries\n",
        "above_18 = df[df[\"Respondent Age\"] < 18]\n",
        "above_18.head()\n",
        "# There was data that was collected from people bellow the age of consent if the four countries"
      ],
      "execution_count": null,
      "outputs": [
        {
          "output_type": "execute_result",
          "data": {
            "text/html": [
              "<div>\n",
              "<style scoped>\n",
              "    .dataframe tbody tr th:only-of-type {\n",
              "        vertical-align: middle;\n",
              "    }\n",
              "\n",
              "    .dataframe tbody tr th {\n",
              "        vertical-align: top;\n",
              "    }\n",
              "\n",
              "    .dataframe thead th {\n",
              "        text-align: right;\n",
              "    }\n",
              "</style>\n",
              "<table border=\"1\" class=\"dataframe\">\n",
              "  <thead>\n",
              "    <tr style=\"text-align: right;\">\n",
              "      <th></th>\n",
              "      <th>country</th>\n",
              "      <th>year</th>\n",
              "      <th>uniqueid</th>\n",
              "      <th>Has a Bank account</th>\n",
              "      <th>Type of Location</th>\n",
              "      <th>Cell Phone Access</th>\n",
              "      <th>household_size</th>\n",
              "      <th>Respondent Age</th>\n",
              "      <th>gender_of_respondent</th>\n",
              "      <th>The relathip with head</th>\n",
              "      <th>marital_status</th>\n",
              "      <th>Level of Educuation</th>\n",
              "      <th>Type of Job</th>\n",
              "    </tr>\n",
              "  </thead>\n",
              "  <tbody>\n",
              "    <tr>\n",
              "      <th>52</th>\n",
              "      <td>Kenya</td>\n",
              "      <td>2018</td>\n",
              "      <td>uniqueid_53</td>\n",
              "      <td>No</td>\n",
              "      <td>Urban</td>\n",
              "      <td>No</td>\n",
              "      <td>5.0</td>\n",
              "      <td>16.0</td>\n",
              "      <td>Female</td>\n",
              "      <td>Other relative</td>\n",
              "      <td>Single/Never Married</td>\n",
              "      <td>Primary education</td>\n",
              "      <td>Remittance Dependent</td>\n",
              "    </tr>\n",
              "    <tr>\n",
              "      <th>53</th>\n",
              "      <td>Kenya</td>\n",
              "      <td>2018</td>\n",
              "      <td>uniqueid_54</td>\n",
              "      <td>No</td>\n",
              "      <td>Rural</td>\n",
              "      <td>Yes</td>\n",
              "      <td>2.0</td>\n",
              "      <td>17.0</td>\n",
              "      <td>Male</td>\n",
              "      <td>Other relative</td>\n",
              "      <td>Single/Never Married</td>\n",
              "      <td>Secondary education</td>\n",
              "      <td>Remittance Dependent</td>\n",
              "    </tr>\n",
              "    <tr>\n",
              "      <th>76</th>\n",
              "      <td>Kenya</td>\n",
              "      <td>2018</td>\n",
              "      <td>uniqueid_77</td>\n",
              "      <td>No</td>\n",
              "      <td>Urban</td>\n",
              "      <td>No</td>\n",
              "      <td>4.0</td>\n",
              "      <td>17.0</td>\n",
              "      <td>Male</td>\n",
              "      <td>Other relative</td>\n",
              "      <td>Single/Never Married</td>\n",
              "      <td>Secondary education</td>\n",
              "      <td>Remittance Dependent</td>\n",
              "    </tr>\n",
              "    <tr>\n",
              "      <th>81</th>\n",
              "      <td>Kenya</td>\n",
              "      <td>2018</td>\n",
              "      <td>uniqueid_82</td>\n",
              "      <td>No</td>\n",
              "      <td>Rural</td>\n",
              "      <td>No</td>\n",
              "      <td>4.0</td>\n",
              "      <td>17.0</td>\n",
              "      <td>Male</td>\n",
              "      <td>Child</td>\n",
              "      <td>Single/Never Married</td>\n",
              "      <td>Secondary education</td>\n",
              "      <td>Remittance Dependent</td>\n",
              "    </tr>\n",
              "    <tr>\n",
              "      <th>104</th>\n",
              "      <td>Kenya</td>\n",
              "      <td>2018</td>\n",
              "      <td>uniqueid_105</td>\n",
              "      <td>Yes</td>\n",
              "      <td>Urban</td>\n",
              "      <td>No</td>\n",
              "      <td>4.0</td>\n",
              "      <td>16.0</td>\n",
              "      <td>Female</td>\n",
              "      <td>Other relative</td>\n",
              "      <td>Single/Never Married</td>\n",
              "      <td>Secondary education</td>\n",
              "      <td>Remittance Dependent</td>\n",
              "    </tr>\n",
              "  </tbody>\n",
              "</table>\n",
              "</div>"
            ],
            "text/plain": [
              "    country  year  ...  Level of Educuation           Type of Job\n",
              "52    Kenya  2018  ...    Primary education  Remittance Dependent\n",
              "53    Kenya  2018  ...  Secondary education  Remittance Dependent\n",
              "76    Kenya  2018  ...  Secondary education  Remittance Dependent\n",
              "81    Kenya  2018  ...  Secondary education  Remittance Dependent\n",
              "104   Kenya  2018  ...  Secondary education  Remittance Dependent\n",
              "\n",
              "[5 rows x 13 columns]"
            ]
          },
          "metadata": {},
          "execution_count": 12
        }
      ]
    },
    {
      "cell_type": "markdown",
      "metadata": {
        "id": "kuaEqCQiBBbD"
      },
      "source": [
        "1. Data is valid in that it only contains data from the four countrues we are intresinterested in (kenya,Ugand,tanzania and Rwanda)\n",
        "2. There was data that was collected from people bellow the age of consent if the four countries"
      ]
    },
    {
      "cell_type": "markdown",
      "metadata": {
        "id": "pEoRqNqPASaN"
      },
      "source": [
        "## 5. Tidying the Dataset"
      ]
    },
    {
      "cell_type": "code",
      "metadata": {
        "colab": {
          "base_uri": "https://localhost:8080/"
        },
        "id": "ejNhGBgXyLe_",
        "outputId": "4a04f3a7-a7d5-49d8-edd7-dd14aecd5415"
      },
      "source": [
        "# Completeness\n",
        "# Checking for null values\n",
        "\n",
        "df.isnull().sum()\n",
        "# drop null values\n",
        "\n",
        "df.dropna(axis = 0, how ='any', inplace=True)\n",
        "df.isnull().sum()"
      ],
      "execution_count": null,
      "outputs": [
        {
          "output_type": "execute_result",
          "data": {
            "text/plain": [
              "country                   0\n",
              "year                      0\n",
              "uniqueid                  0\n",
              "Has a Bank account        0\n",
              "Type of Location          0\n",
              "Cell Phone Access         0\n",
              "household_size            0\n",
              "Respondent Age            0\n",
              "gender_of_respondent      0\n",
              "The relathip with head    0\n",
              "marital_status            0\n",
              "Level of Educuation       0\n",
              "Type of Job               0\n",
              "dtype: int64"
            ]
          },
          "metadata": {},
          "execution_count": 34
        }
      ]
    },
    {
      "cell_type": "code",
      "metadata": {
        "colab": {
          "base_uri": "https://localhost:8080/"
        },
        "id": "LjDwVkyiymVf",
        "outputId": "93eaaf6b-e574-4d0f-ad21-c83e33f37dc2"
      },
      "source": [
        "#Consistency\n",
        "#Checking for duplicates\n",
        "\n",
        "df.duplicated().sum()\n",
        "\n",
        "# Thre are no duplicate records"
      ],
      "execution_count": null,
      "outputs": [
        {
          "output_type": "execute_result",
          "data": {
            "text/plain": [
              "0"
            ]
          },
          "metadata": {},
          "execution_count": 35
        }
      ]
    },
    {
      "cell_type": "code",
      "metadata": {
        "colab": {
          "base_uri": "https://localhost:8080/",
          "height": 165
        },
        "id": "9lqUuO3cyvDH",
        "outputId": "d18a0b20-ec51-4a3f-cc57-6cfd919d2586"
      },
      "source": [
        "# Uniformity\n",
        "df.columns = ['country', 'year', 'uniqueid', 'has_a_Bank_account', 'location_type', 'cellphone_access', 'household_size', 'age_of_respondent', 'gender_of_respondent', 'relationship_with_head', 'marital_status', 'education_level', 'job_type']\n",
        "df.head(2)"
      ],
      "execution_count": null,
      "outputs": [
        {
          "output_type": "execute_result",
          "data": {
            "text/html": [
              "<div>\n",
              "<style scoped>\n",
              "    .dataframe tbody tr th:only-of-type {\n",
              "        vertical-align: middle;\n",
              "    }\n",
              "\n",
              "    .dataframe tbody tr th {\n",
              "        vertical-align: top;\n",
              "    }\n",
              "\n",
              "    .dataframe thead th {\n",
              "        text-align: right;\n",
              "    }\n",
              "</style>\n",
              "<table border=\"1\" class=\"dataframe\">\n",
              "  <thead>\n",
              "    <tr style=\"text-align: right;\">\n",
              "      <th></th>\n",
              "      <th>country</th>\n",
              "      <th>year</th>\n",
              "      <th>uniqueid</th>\n",
              "      <th>has_a_Bank_account</th>\n",
              "      <th>location_type</th>\n",
              "      <th>cellphone_access</th>\n",
              "      <th>household_size</th>\n",
              "      <th>age_of_respondent</th>\n",
              "      <th>gender_of_respondent</th>\n",
              "      <th>relationship_with_head</th>\n",
              "      <th>marital_status</th>\n",
              "      <th>education_level</th>\n",
              "      <th>job_type</th>\n",
              "    </tr>\n",
              "  </thead>\n",
              "  <tbody>\n",
              "    <tr>\n",
              "      <th>0</th>\n",
              "      <td>Kenya</td>\n",
              "      <td>2018</td>\n",
              "      <td>uniqueid_1</td>\n",
              "      <td>Yes</td>\n",
              "      <td>Rural</td>\n",
              "      <td>Yes</td>\n",
              "      <td>3.0</td>\n",
              "      <td>24.0</td>\n",
              "      <td>Female</td>\n",
              "      <td>Spouse</td>\n",
              "      <td>Married/Living together</td>\n",
              "      <td>Secondary education</td>\n",
              "      <td>Self employed</td>\n",
              "    </tr>\n",
              "    <tr>\n",
              "      <th>1</th>\n",
              "      <td>Kenya</td>\n",
              "      <td>2018</td>\n",
              "      <td>uniqueid_2</td>\n",
              "      <td>No</td>\n",
              "      <td>Rural</td>\n",
              "      <td>No</td>\n",
              "      <td>5.0</td>\n",
              "      <td>70.0</td>\n",
              "      <td>Female</td>\n",
              "      <td>Head of Household</td>\n",
              "      <td>Widowed</td>\n",
              "      <td>No formal education</td>\n",
              "      <td>Government Dependent</td>\n",
              "    </tr>\n",
              "  </tbody>\n",
              "</table>\n",
              "</div>"
            ],
            "text/plain": [
              "  country  year  ...      education_level              job_type\n",
              "0   Kenya  2018  ...  Secondary education         Self employed\n",
              "1   Kenya  2018  ...  No formal education  Government Dependent\n",
              "\n",
              "[2 rows x 13 columns]"
            ]
          },
          "metadata": {},
          "execution_count": 36
        }
      ]
    },
    {
      "cell_type": "code",
      "metadata": {
        "colab": {
          "base_uri": "https://localhost:8080/"
        },
        "id": "p8VcBgnc1k2O",
        "outputId": "fa23b180-0068-4182-f18f-a6b514629a8a"
      },
      "source": [
        "# Converting float to int\n",
        "df['household_size'].astype(int)\n",
        "df['age_of_respondent'].astype(int)"
      ],
      "execution_count": null,
      "outputs": [
        {
          "output_type": "execute_result",
          "data": {
            "text/plain": [
              "0        24\n",
              "1        70\n",
              "2        26\n",
              "3        34\n",
              "4        26\n",
              "         ..\n",
              "23519    48\n",
              "23520    27\n",
              "23521    27\n",
              "23522    30\n",
              "23523    20\n",
              "Name: age_of_respondent, Length: 23343, dtype: int64"
            ]
          },
          "metadata": {},
          "execution_count": 37
        }
      ]
    },
    {
      "cell_type": "markdown",
      "metadata": {
        "id": "u05P5si82i51"
      },
      "source": [
        "## 6. Exploratory Analysis"
      ]
    },
    {
      "cell_type": "markdown",
      "metadata": {
        "id": "uInYH2leCdkj"
      },
      "source": [
        "- Ploting the **univariate summaries** and recording our observations\n",
        "\n",
        "- To figure out how we can predict which individuals are most likely to have or use a bank account"
      ]
    },
    {
      "cell_type": "code",
      "metadata": {
        "colab": {
          "base_uri": "https://localhost:8080/",
          "height": 255
        },
        "id": "ptA99b_7rY3F",
        "outputId": "b3ae08a0-06ce-4a05-f3d9-89392af37bed"
      },
      "source": [
        "# Age of respondents crosstab\n",
        "pd.crosstab(index=df['uniqueid'], columns=df['age_of_respondent']).head()"
      ],
      "execution_count": null,
      "outputs": [
        {
          "output_type": "execute_result",
          "data": {
            "text/html": [
              "<div>\n",
              "<style scoped>\n",
              "    .dataframe tbody tr th:only-of-type {\n",
              "        vertical-align: middle;\n",
              "    }\n",
              "\n",
              "    .dataframe tbody tr th {\n",
              "        vertical-align: top;\n",
              "    }\n",
              "\n",
              "    .dataframe thead th {\n",
              "        text-align: right;\n",
              "    }\n",
              "</style>\n",
              "<table border=\"1\" class=\"dataframe\">\n",
              "  <thead>\n",
              "    <tr style=\"text-align: right;\">\n",
              "      <th>age_of_respondent</th>\n",
              "      <th>16.0</th>\n",
              "      <th>17.0</th>\n",
              "      <th>18.0</th>\n",
              "      <th>19.0</th>\n",
              "      <th>20.0</th>\n",
              "      <th>21.0</th>\n",
              "      <th>22.0</th>\n",
              "      <th>23.0</th>\n",
              "      <th>24.0</th>\n",
              "      <th>25.0</th>\n",
              "      <th>26.0</th>\n",
              "      <th>27.0</th>\n",
              "      <th>28.0</th>\n",
              "      <th>29.0</th>\n",
              "      <th>30.0</th>\n",
              "      <th>31.0</th>\n",
              "      <th>32.0</th>\n",
              "      <th>33.0</th>\n",
              "      <th>34.0</th>\n",
              "      <th>35.0</th>\n",
              "      <th>36.0</th>\n",
              "      <th>37.0</th>\n",
              "      <th>38.0</th>\n",
              "      <th>39.0</th>\n",
              "      <th>40.0</th>\n",
              "      <th>41.0</th>\n",
              "      <th>42.0</th>\n",
              "      <th>43.0</th>\n",
              "      <th>44.0</th>\n",
              "      <th>45.0</th>\n",
              "      <th>46.0</th>\n",
              "      <th>47.0</th>\n",
              "      <th>48.0</th>\n",
              "      <th>49.0</th>\n",
              "      <th>50.0</th>\n",
              "      <th>51.0</th>\n",
              "      <th>52.0</th>\n",
              "      <th>53.0</th>\n",
              "      <th>54.0</th>\n",
              "      <th>55.0</th>\n",
              "      <th>56.0</th>\n",
              "      <th>57.0</th>\n",
              "      <th>58.0</th>\n",
              "      <th>59.0</th>\n",
              "      <th>60.0</th>\n",
              "      <th>61.0</th>\n",
              "      <th>62.0</th>\n",
              "      <th>63.0</th>\n",
              "      <th>64.0</th>\n",
              "      <th>65.0</th>\n",
              "      <th>66.0</th>\n",
              "      <th>67.0</th>\n",
              "      <th>68.0</th>\n",
              "      <th>69.0</th>\n",
              "      <th>70.0</th>\n",
              "      <th>71.0</th>\n",
              "      <th>72.0</th>\n",
              "      <th>73.0</th>\n",
              "      <th>74.0</th>\n",
              "      <th>75.0</th>\n",
              "      <th>76.0</th>\n",
              "      <th>77.0</th>\n",
              "      <th>78.0</th>\n",
              "      <th>79.0</th>\n",
              "      <th>80.0</th>\n",
              "      <th>81.0</th>\n",
              "      <th>82.0</th>\n",
              "      <th>83.0</th>\n",
              "      <th>84.0</th>\n",
              "      <th>85.0</th>\n",
              "      <th>86.0</th>\n",
              "      <th>87.0</th>\n",
              "      <th>88.0</th>\n",
              "      <th>89.0</th>\n",
              "      <th>90.0</th>\n",
              "      <th>91.0</th>\n",
              "      <th>92.0</th>\n",
              "      <th>93.0</th>\n",
              "      <th>94.0</th>\n",
              "      <th>95.0</th>\n",
              "      <th>96.0</th>\n",
              "      <th>97.0</th>\n",
              "      <th>98.0</th>\n",
              "      <th>99.0</th>\n",
              "      <th>100.0</th>\n",
              "    </tr>\n",
              "    <tr>\n",
              "      <th>uniqueid</th>\n",
              "      <th></th>\n",
              "      <th></th>\n",
              "      <th></th>\n",
              "      <th></th>\n",
              "      <th></th>\n",
              "      <th></th>\n",
              "      <th></th>\n",
              "      <th></th>\n",
              "      <th></th>\n",
              "      <th></th>\n",
              "      <th></th>\n",
              "      <th></th>\n",
              "      <th></th>\n",
              "      <th></th>\n",
              "      <th></th>\n",
              "      <th></th>\n",
              "      <th></th>\n",
              "      <th></th>\n",
              "      <th></th>\n",
              "      <th></th>\n",
              "      <th></th>\n",
              "      <th></th>\n",
              "      <th></th>\n",
              "      <th></th>\n",
              "      <th></th>\n",
              "      <th></th>\n",
              "      <th></th>\n",
              "      <th></th>\n",
              "      <th></th>\n",
              "      <th></th>\n",
              "      <th></th>\n",
              "      <th></th>\n",
              "      <th></th>\n",
              "      <th></th>\n",
              "      <th></th>\n",
              "      <th></th>\n",
              "      <th></th>\n",
              "      <th></th>\n",
              "      <th></th>\n",
              "      <th></th>\n",
              "      <th></th>\n",
              "      <th></th>\n",
              "      <th></th>\n",
              "      <th></th>\n",
              "      <th></th>\n",
              "      <th></th>\n",
              "      <th></th>\n",
              "      <th></th>\n",
              "      <th></th>\n",
              "      <th></th>\n",
              "      <th></th>\n",
              "      <th></th>\n",
              "      <th></th>\n",
              "      <th></th>\n",
              "      <th></th>\n",
              "      <th></th>\n",
              "      <th></th>\n",
              "      <th></th>\n",
              "      <th></th>\n",
              "      <th></th>\n",
              "      <th></th>\n",
              "      <th></th>\n",
              "      <th></th>\n",
              "      <th></th>\n",
              "      <th></th>\n",
              "      <th></th>\n",
              "      <th></th>\n",
              "      <th></th>\n",
              "      <th></th>\n",
              "      <th></th>\n",
              "      <th></th>\n",
              "      <th></th>\n",
              "      <th></th>\n",
              "      <th></th>\n",
              "      <th></th>\n",
              "      <th></th>\n",
              "      <th></th>\n",
              "      <th></th>\n",
              "      <th></th>\n",
              "      <th></th>\n",
              "      <th></th>\n",
              "      <th></th>\n",
              "      <th></th>\n",
              "      <th></th>\n",
              "      <th></th>\n",
              "    </tr>\n",
              "  </thead>\n",
              "  <tbody>\n",
              "    <tr>\n",
              "      <th>uniqueid_1</th>\n",
              "      <td>0</td>\n",
              "      <td>0</td>\n",
              "      <td>1</td>\n",
              "      <td>0</td>\n",
              "      <td>0</td>\n",
              "      <td>0</td>\n",
              "      <td>1</td>\n",
              "      <td>0</td>\n",
              "      <td>1</td>\n",
              "      <td>0</td>\n",
              "      <td>0</td>\n",
              "      <td>0</td>\n",
              "      <td>0</td>\n",
              "      <td>0</td>\n",
              "      <td>0</td>\n",
              "      <td>0</td>\n",
              "      <td>1</td>\n",
              "      <td>0</td>\n",
              "      <td>0</td>\n",
              "      <td>0</td>\n",
              "      <td>0</td>\n",
              "      <td>0</td>\n",
              "      <td>0</td>\n",
              "      <td>0</td>\n",
              "      <td>0</td>\n",
              "      <td>0</td>\n",
              "      <td>0</td>\n",
              "      <td>0</td>\n",
              "      <td>0</td>\n",
              "      <td>0</td>\n",
              "      <td>0</td>\n",
              "      <td>0</td>\n",
              "      <td>0</td>\n",
              "      <td>0</td>\n",
              "      <td>0</td>\n",
              "      <td>0</td>\n",
              "      <td>0</td>\n",
              "      <td>0</td>\n",
              "      <td>0</td>\n",
              "      <td>0</td>\n",
              "      <td>0</td>\n",
              "      <td>0</td>\n",
              "      <td>0</td>\n",
              "      <td>0</td>\n",
              "      <td>0</td>\n",
              "      <td>0</td>\n",
              "      <td>0</td>\n",
              "      <td>0</td>\n",
              "      <td>0</td>\n",
              "      <td>0</td>\n",
              "      <td>0</td>\n",
              "      <td>0</td>\n",
              "      <td>0</td>\n",
              "      <td>0</td>\n",
              "      <td>0</td>\n",
              "      <td>0</td>\n",
              "      <td>0</td>\n",
              "      <td>0</td>\n",
              "      <td>0</td>\n",
              "      <td>0</td>\n",
              "      <td>0</td>\n",
              "      <td>0</td>\n",
              "      <td>0</td>\n",
              "      <td>0</td>\n",
              "      <td>0</td>\n",
              "      <td>0</td>\n",
              "      <td>0</td>\n",
              "      <td>0</td>\n",
              "      <td>0</td>\n",
              "      <td>0</td>\n",
              "      <td>0</td>\n",
              "      <td>0</td>\n",
              "      <td>0</td>\n",
              "      <td>0</td>\n",
              "      <td>0</td>\n",
              "      <td>0</td>\n",
              "      <td>0</td>\n",
              "      <td>0</td>\n",
              "      <td>0</td>\n",
              "      <td>0</td>\n",
              "      <td>0</td>\n",
              "      <td>0</td>\n",
              "      <td>0</td>\n",
              "      <td>0</td>\n",
              "      <td>0</td>\n",
              "    </tr>\n",
              "    <tr>\n",
              "      <th>uniqueid_10</th>\n",
              "      <td>0</td>\n",
              "      <td>0</td>\n",
              "      <td>0</td>\n",
              "      <td>0</td>\n",
              "      <td>0</td>\n",
              "      <td>0</td>\n",
              "      <td>0</td>\n",
              "      <td>0</td>\n",
              "      <td>0</td>\n",
              "      <td>0</td>\n",
              "      <td>0</td>\n",
              "      <td>0</td>\n",
              "      <td>1</td>\n",
              "      <td>0</td>\n",
              "      <td>0</td>\n",
              "      <td>0</td>\n",
              "      <td>0</td>\n",
              "      <td>0</td>\n",
              "      <td>0</td>\n",
              "      <td>0</td>\n",
              "      <td>0</td>\n",
              "      <td>0</td>\n",
              "      <td>0</td>\n",
              "      <td>0</td>\n",
              "      <td>0</td>\n",
              "      <td>0</td>\n",
              "      <td>0</td>\n",
              "      <td>0</td>\n",
              "      <td>0</td>\n",
              "      <td>1</td>\n",
              "      <td>0</td>\n",
              "      <td>0</td>\n",
              "      <td>0</td>\n",
              "      <td>0</td>\n",
              "      <td>0</td>\n",
              "      <td>0</td>\n",
              "      <td>0</td>\n",
              "      <td>0</td>\n",
              "      <td>0</td>\n",
              "      <td>0</td>\n",
              "      <td>0</td>\n",
              "      <td>0</td>\n",
              "      <td>0</td>\n",
              "      <td>0</td>\n",
              "      <td>0</td>\n",
              "      <td>0</td>\n",
              "      <td>0</td>\n",
              "      <td>0</td>\n",
              "      <td>0</td>\n",
              "      <td>1</td>\n",
              "      <td>0</td>\n",
              "      <td>0</td>\n",
              "      <td>0</td>\n",
              "      <td>0</td>\n",
              "      <td>0</td>\n",
              "      <td>0</td>\n",
              "      <td>0</td>\n",
              "      <td>0</td>\n",
              "      <td>0</td>\n",
              "      <td>0</td>\n",
              "      <td>1</td>\n",
              "      <td>0</td>\n",
              "      <td>0</td>\n",
              "      <td>0</td>\n",
              "      <td>0</td>\n",
              "      <td>0</td>\n",
              "      <td>0</td>\n",
              "      <td>0</td>\n",
              "      <td>0</td>\n",
              "      <td>0</td>\n",
              "      <td>0</td>\n",
              "      <td>0</td>\n",
              "      <td>0</td>\n",
              "      <td>0</td>\n",
              "      <td>0</td>\n",
              "      <td>0</td>\n",
              "      <td>0</td>\n",
              "      <td>0</td>\n",
              "      <td>0</td>\n",
              "      <td>0</td>\n",
              "      <td>0</td>\n",
              "      <td>0</td>\n",
              "      <td>0</td>\n",
              "      <td>0</td>\n",
              "      <td>0</td>\n",
              "    </tr>\n",
              "    <tr>\n",
              "      <th>uniqueid_100</th>\n",
              "      <td>0</td>\n",
              "      <td>0</td>\n",
              "      <td>0</td>\n",
              "      <td>0</td>\n",
              "      <td>0</td>\n",
              "      <td>0</td>\n",
              "      <td>0</td>\n",
              "      <td>0</td>\n",
              "      <td>0</td>\n",
              "      <td>1</td>\n",
              "      <td>0</td>\n",
              "      <td>0</td>\n",
              "      <td>0</td>\n",
              "      <td>1</td>\n",
              "      <td>0</td>\n",
              "      <td>1</td>\n",
              "      <td>0</td>\n",
              "      <td>0</td>\n",
              "      <td>0</td>\n",
              "      <td>0</td>\n",
              "      <td>0</td>\n",
              "      <td>0</td>\n",
              "      <td>0</td>\n",
              "      <td>0</td>\n",
              "      <td>0</td>\n",
              "      <td>0</td>\n",
              "      <td>1</td>\n",
              "      <td>0</td>\n",
              "      <td>0</td>\n",
              "      <td>0</td>\n",
              "      <td>0</td>\n",
              "      <td>0</td>\n",
              "      <td>0</td>\n",
              "      <td>0</td>\n",
              "      <td>0</td>\n",
              "      <td>0</td>\n",
              "      <td>0</td>\n",
              "      <td>0</td>\n",
              "      <td>0</td>\n",
              "      <td>0</td>\n",
              "      <td>0</td>\n",
              "      <td>0</td>\n",
              "      <td>0</td>\n",
              "      <td>0</td>\n",
              "      <td>0</td>\n",
              "      <td>0</td>\n",
              "      <td>0</td>\n",
              "      <td>0</td>\n",
              "      <td>0</td>\n",
              "      <td>0</td>\n",
              "      <td>0</td>\n",
              "      <td>0</td>\n",
              "      <td>0</td>\n",
              "      <td>0</td>\n",
              "      <td>0</td>\n",
              "      <td>0</td>\n",
              "      <td>0</td>\n",
              "      <td>0</td>\n",
              "      <td>0</td>\n",
              "      <td>0</td>\n",
              "      <td>0</td>\n",
              "      <td>0</td>\n",
              "      <td>0</td>\n",
              "      <td>0</td>\n",
              "      <td>0</td>\n",
              "      <td>0</td>\n",
              "      <td>0</td>\n",
              "      <td>0</td>\n",
              "      <td>0</td>\n",
              "      <td>0</td>\n",
              "      <td>0</td>\n",
              "      <td>0</td>\n",
              "      <td>0</td>\n",
              "      <td>0</td>\n",
              "      <td>0</td>\n",
              "      <td>0</td>\n",
              "      <td>0</td>\n",
              "      <td>0</td>\n",
              "      <td>0</td>\n",
              "      <td>0</td>\n",
              "      <td>0</td>\n",
              "      <td>0</td>\n",
              "      <td>0</td>\n",
              "      <td>0</td>\n",
              "      <td>0</td>\n",
              "    </tr>\n",
              "    <tr>\n",
              "      <th>uniqueid_1000</th>\n",
              "      <td>0</td>\n",
              "      <td>0</td>\n",
              "      <td>0</td>\n",
              "      <td>0</td>\n",
              "      <td>1</td>\n",
              "      <td>0</td>\n",
              "      <td>0</td>\n",
              "      <td>0</td>\n",
              "      <td>0</td>\n",
              "      <td>0</td>\n",
              "      <td>0</td>\n",
              "      <td>0</td>\n",
              "      <td>0</td>\n",
              "      <td>0</td>\n",
              "      <td>0</td>\n",
              "      <td>1</td>\n",
              "      <td>0</td>\n",
              "      <td>0</td>\n",
              "      <td>0</td>\n",
              "      <td>1</td>\n",
              "      <td>0</td>\n",
              "      <td>0</td>\n",
              "      <td>0</td>\n",
              "      <td>0</td>\n",
              "      <td>0</td>\n",
              "      <td>0</td>\n",
              "      <td>0</td>\n",
              "      <td>1</td>\n",
              "      <td>0</td>\n",
              "      <td>0</td>\n",
              "      <td>0</td>\n",
              "      <td>0</td>\n",
              "      <td>0</td>\n",
              "      <td>0</td>\n",
              "      <td>0</td>\n",
              "      <td>0</td>\n",
              "      <td>0</td>\n",
              "      <td>0</td>\n",
              "      <td>0</td>\n",
              "      <td>0</td>\n",
              "      <td>0</td>\n",
              "      <td>0</td>\n",
              "      <td>0</td>\n",
              "      <td>0</td>\n",
              "      <td>0</td>\n",
              "      <td>0</td>\n",
              "      <td>0</td>\n",
              "      <td>0</td>\n",
              "      <td>0</td>\n",
              "      <td>0</td>\n",
              "      <td>0</td>\n",
              "      <td>0</td>\n",
              "      <td>0</td>\n",
              "      <td>0</td>\n",
              "      <td>0</td>\n",
              "      <td>0</td>\n",
              "      <td>0</td>\n",
              "      <td>0</td>\n",
              "      <td>0</td>\n",
              "      <td>0</td>\n",
              "      <td>0</td>\n",
              "      <td>0</td>\n",
              "      <td>0</td>\n",
              "      <td>0</td>\n",
              "      <td>0</td>\n",
              "      <td>0</td>\n",
              "      <td>0</td>\n",
              "      <td>0</td>\n",
              "      <td>0</td>\n",
              "      <td>0</td>\n",
              "      <td>0</td>\n",
              "      <td>0</td>\n",
              "      <td>0</td>\n",
              "      <td>0</td>\n",
              "      <td>0</td>\n",
              "      <td>0</td>\n",
              "      <td>0</td>\n",
              "      <td>0</td>\n",
              "      <td>0</td>\n",
              "      <td>0</td>\n",
              "      <td>0</td>\n",
              "      <td>0</td>\n",
              "      <td>0</td>\n",
              "      <td>0</td>\n",
              "      <td>0</td>\n",
              "    </tr>\n",
              "    <tr>\n",
              "      <th>uniqueid_1001</th>\n",
              "      <td>0</td>\n",
              "      <td>0</td>\n",
              "      <td>0</td>\n",
              "      <td>0</td>\n",
              "      <td>2</td>\n",
              "      <td>0</td>\n",
              "      <td>0</td>\n",
              "      <td>0</td>\n",
              "      <td>1</td>\n",
              "      <td>0</td>\n",
              "      <td>0</td>\n",
              "      <td>0</td>\n",
              "      <td>0</td>\n",
              "      <td>0</td>\n",
              "      <td>0</td>\n",
              "      <td>0</td>\n",
              "      <td>0</td>\n",
              "      <td>0</td>\n",
              "      <td>0</td>\n",
              "      <td>0</td>\n",
              "      <td>0</td>\n",
              "      <td>0</td>\n",
              "      <td>0</td>\n",
              "      <td>0</td>\n",
              "      <td>1</td>\n",
              "      <td>0</td>\n",
              "      <td>0</td>\n",
              "      <td>0</td>\n",
              "      <td>0</td>\n",
              "      <td>0</td>\n",
              "      <td>0</td>\n",
              "      <td>0</td>\n",
              "      <td>0</td>\n",
              "      <td>0</td>\n",
              "      <td>0</td>\n",
              "      <td>0</td>\n",
              "      <td>0</td>\n",
              "      <td>0</td>\n",
              "      <td>0</td>\n",
              "      <td>0</td>\n",
              "      <td>0</td>\n",
              "      <td>0</td>\n",
              "      <td>0</td>\n",
              "      <td>0</td>\n",
              "      <td>0</td>\n",
              "      <td>0</td>\n",
              "      <td>0</td>\n",
              "      <td>0</td>\n",
              "      <td>0</td>\n",
              "      <td>0</td>\n",
              "      <td>0</td>\n",
              "      <td>0</td>\n",
              "      <td>0</td>\n",
              "      <td>0</td>\n",
              "      <td>0</td>\n",
              "      <td>0</td>\n",
              "      <td>0</td>\n",
              "      <td>0</td>\n",
              "      <td>0</td>\n",
              "      <td>0</td>\n",
              "      <td>0</td>\n",
              "      <td>0</td>\n",
              "      <td>0</td>\n",
              "      <td>0</td>\n",
              "      <td>0</td>\n",
              "      <td>0</td>\n",
              "      <td>0</td>\n",
              "      <td>0</td>\n",
              "      <td>0</td>\n",
              "      <td>0</td>\n",
              "      <td>0</td>\n",
              "      <td>0</td>\n",
              "      <td>0</td>\n",
              "      <td>0</td>\n",
              "      <td>0</td>\n",
              "      <td>0</td>\n",
              "      <td>0</td>\n",
              "      <td>0</td>\n",
              "      <td>0</td>\n",
              "      <td>0</td>\n",
              "      <td>0</td>\n",
              "      <td>0</td>\n",
              "      <td>0</td>\n",
              "      <td>0</td>\n",
              "      <td>0</td>\n",
              "    </tr>\n",
              "  </tbody>\n",
              "</table>\n",
              "</div>"
            ],
            "text/plain": [
              "age_of_respondent  16.0  17.0  18.0  19.0  20.0  21.0  22.0  23.0  24.0  25.0  \\\n",
              "uniqueid                                                                        \n",
              "uniqueid_1         0     0     1     0     0     0     1     0     1     0      \n",
              "uniqueid_10        0     0     0     0     0     0     0     0     0     0      \n",
              "uniqueid_100       0     0     0     0     0     0     0     0     0     1      \n",
              "uniqueid_1000      0     0     0     0     1     0     0     0     0     0      \n",
              "uniqueid_1001      0     0     0     0     2     0     0     0     1     0      \n",
              "\n",
              "age_of_respondent  26.0  27.0  28.0  29.0  30.0  31.0  32.0  33.0  34.0  35.0  \\\n",
              "uniqueid                                                                        \n",
              "uniqueid_1         0     0     0     0     0     0     1     0     0     0      \n",
              "uniqueid_10        0     0     1     0     0     0     0     0     0     0      \n",
              "uniqueid_100       0     0     0     1     0     1     0     0     0     0      \n",
              "uniqueid_1000      0     0     0     0     0     1     0     0     0     1      \n",
              "uniqueid_1001      0     0     0     0     0     0     0     0     0     0      \n",
              "\n",
              "age_of_respondent  36.0  37.0  38.0  39.0  40.0  41.0  42.0  43.0  44.0  45.0  \\\n",
              "uniqueid                                                                        \n",
              "uniqueid_1         0     0     0     0     0     0     0     0     0     0      \n",
              "uniqueid_10        0     0     0     0     0     0     0     0     0     1      \n",
              "uniqueid_100       0     0     0     0     0     0     1     0     0     0      \n",
              "uniqueid_1000      0     0     0     0     0     0     0     1     0     0      \n",
              "uniqueid_1001      0     0     0     0     1     0     0     0     0     0      \n",
              "\n",
              "age_of_respondent  46.0  47.0  48.0  49.0  50.0  51.0  52.0  53.0  54.0  55.0  \\\n",
              "uniqueid                                                                        \n",
              "uniqueid_1         0     0     0     0     0     0     0     0     0     0      \n",
              "uniqueid_10        0     0     0     0     0     0     0     0     0     0      \n",
              "uniqueid_100       0     0     0     0     0     0     0     0     0     0      \n",
              "uniqueid_1000      0     0     0     0     0     0     0     0     0     0      \n",
              "uniqueid_1001      0     0     0     0     0     0     0     0     0     0      \n",
              "\n",
              "age_of_respondent  56.0  57.0  58.0  59.0  60.0  61.0  62.0  63.0  64.0  65.0  \\\n",
              "uniqueid                                                                        \n",
              "uniqueid_1         0     0     0     0     0     0     0     0     0     0      \n",
              "uniqueid_10        0     0     0     0     0     0     0     0     0     1      \n",
              "uniqueid_100       0     0     0     0     0     0     0     0     0     0      \n",
              "uniqueid_1000      0     0     0     0     0     0     0     0     0     0      \n",
              "uniqueid_1001      0     0     0     0     0     0     0     0     0     0      \n",
              "\n",
              "age_of_respondent  66.0  67.0  68.0  69.0  70.0  71.0  72.0  73.0  74.0  75.0  \\\n",
              "uniqueid                                                                        \n",
              "uniqueid_1         0     0     0     0     0     0     0     0     0     0      \n",
              "uniqueid_10        0     0     0     0     0     0     0     0     0     0      \n",
              "uniqueid_100       0     0     0     0     0     0     0     0     0     0      \n",
              "uniqueid_1000      0     0     0     0     0     0     0     0     0     0      \n",
              "uniqueid_1001      0     0     0     0     0     0     0     0     0     0      \n",
              "\n",
              "age_of_respondent  76.0  77.0  78.0  79.0  80.0  81.0  82.0  83.0  84.0  85.0  \\\n",
              "uniqueid                                                                        \n",
              "uniqueid_1         0     0     0     0     0     0     0     0     0     0      \n",
              "uniqueid_10        1     0     0     0     0     0     0     0     0     0      \n",
              "uniqueid_100       0     0     0     0     0     0     0     0     0     0      \n",
              "uniqueid_1000      0     0     0     0     0     0     0     0     0     0      \n",
              "uniqueid_1001      0     0     0     0     0     0     0     0     0     0      \n",
              "\n",
              "age_of_respondent  86.0  87.0  88.0  89.0  90.0  91.0  92.0  93.0  94.0  95.0  \\\n",
              "uniqueid                                                                        \n",
              "uniqueid_1         0     0     0     0     0     0     0     0     0     0      \n",
              "uniqueid_10        0     0     0     0     0     0     0     0     0     0      \n",
              "uniqueid_100       0     0     0     0     0     0     0     0     0     0      \n",
              "uniqueid_1000      0     0     0     0     0     0     0     0     0     0      \n",
              "uniqueid_1001      0     0     0     0     0     0     0     0     0     0      \n",
              "\n",
              "age_of_respondent  96.0  97.0  98.0  99.0  100.0  \n",
              "uniqueid                                          \n",
              "uniqueid_1         0     0     0     0     0      \n",
              "uniqueid_10        0     0     0     0     0      \n",
              "uniqueid_100       0     0     0     0     0      \n",
              "uniqueid_1000      0     0     0     0     0      \n",
              "uniqueid_1001      0     0     0     0     0      "
            ]
          },
          "metadata": {},
          "execution_count": 82
        }
      ]
    },
    {
      "cell_type": "code",
      "metadata": {
        "colab": {
          "base_uri": "https://localhost:8080/"
        },
        "id": "AaX0U_dhIoiq",
        "outputId": "ed5bbe0d-c127-4c0a-e2c7-be3c71319c27"
      },
      "source": [
        "# Frequency table for people with bank accounts\n",
        "#\n",
        "frequency_df = pd.DataFrame(df, columns=['has_a_Bank_account', 'location_typ', 'cellphone_access', 'age_of_respondent', 'gender_of_respondent', 'education_level', 'marital_status', 'job_type'])\n",
        "frequency_df.has_a_Bank_account.value_counts()"
      ],
      "execution_count": null,
      "outputs": [
        {
          "output_type": "execute_result",
          "data": {
            "text/plain": [
              "No     20046\n",
              "Yes     3297\n",
              "Name: has_a_Bank_account, dtype: int64"
            ]
          },
          "metadata": {},
          "execution_count": 38
        }
      ]
    },
    {
      "cell_type": "code",
      "metadata": {
        "colab": {
          "base_uri": "https://localhost:8080/"
        },
        "id": "BH-4R4VHjHrH",
        "outputId": "5ca62b8f-1432-4d13-fa58-3fdb82b571b0"
      },
      "source": [
        "# Frequency table for people with cellpones\n",
        "#\n",
        "frequency_df.cellphone_access.value_counts()"
      ],
      "execution_count": null,
      "outputs": [
        {
          "output_type": "execute_result",
          "data": {
            "text/plain": [
              "Yes    17334\n",
              "No      6009\n",
              "Name: cellphone_access, dtype: int64"
            ]
          },
          "metadata": {},
          "execution_count": 40
        }
      ]
    },
    {
      "cell_type": "code",
      "metadata": {
        "colab": {
          "base_uri": "https://localhost:8080/"
        },
        "id": "VEDQBpvujQI7",
        "outputId": "a705a489-7c14-4429-f794-c28002338be3"
      },
      "source": [
        "# Frequency table for gender of respondents\n",
        "#\n",
        "frequency_df.gender_of_respondent.value_counts()"
      ],
      "execution_count": null,
      "outputs": [
        {
          "output_type": "execute_result",
          "data": {
            "text/plain": [
              "Female    13767\n",
              "Male       9576\n",
              "Name: gender_of_respondent, dtype: int64"
            ]
          },
          "metadata": {},
          "execution_count": 42
        }
      ]
    },
    {
      "cell_type": "code",
      "metadata": {
        "colab": {
          "base_uri": "https://localhost:8080/"
        },
        "id": "X0NhezjrjQrw",
        "outputId": "87930cc2-15c4-48d0-ea2e-5527a2bd3ba4"
      },
      "source": [
        "# Frequency table for age of respondents\n",
        "#\n",
        "frequency_df.age_of_respondent.value_counts().head(5)"
      ],
      "execution_count": null,
      "outputs": [
        {
          "output_type": "execute_result",
          "data": {
            "text/plain": [
              "30.0    1043\n",
              "35.0     831\n",
              "25.0     785\n",
              "28.0     742\n",
              "32.0     707\n",
              "Name: age_of_respondent, dtype: int64"
            ]
          },
          "metadata": {},
          "execution_count": 43
        }
      ]
    },
    {
      "cell_type": "code",
      "metadata": {
        "colab": {
          "base_uri": "https://localhost:8080/"
        },
        "id": "OQjZda20jRI_",
        "outputId": "8fb0ff09-02f0-467c-a1ee-a3edf4990a37"
      },
      "source": [
        "# Frequency table for people's education levels \n",
        "#\n",
        "frequency_df.education_level.value_counts()"
      ],
      "execution_count": null,
      "outputs": [
        {
          "output_type": "execute_result",
          "data": {
            "text/plain": [
              "Primary education                  12689\n",
              "No formal education                4467 \n",
              "Secondary education                4207 \n",
              "Tertiary education                 1144 \n",
              "Vocational/Specialised training    801  \n",
              "6                                  27   \n",
              "Other/Dont know/RTA                8    \n",
              "Name: education_level, dtype: int64"
            ]
          },
          "metadata": {},
          "execution_count": 69
        }
      ]
    },
    {
      "cell_type": "code",
      "metadata": {
        "colab": {
          "base_uri": "https://localhost:8080/",
          "height": 456
        },
        "id": "QM5EInN8ypL9",
        "outputId": "0650ed09-2aca-4703-dfe8-861710ca1601"
      },
      "source": [
        "# Frequency table bar graph visualization for education level\n",
        "#\n",
        "df['education_level'].value_counts().head(10).plot.bar()\n",
        "plt.xlabel('frequency distribution')\n",
        "plt.ylabel('education level')\n",
        "plt.title('Bar graph visualization for education level')"
      ],
      "execution_count": null,
      "outputs": [
        {
          "output_type": "execute_result",
          "data": {
            "text/plain": [
              "Text(0.5, 1.0, 'Bar graph visualization for education level')"
            ]
          },
          "metadata": {},
          "execution_count": 109
        },
        {
          "output_type": "display_data",
          "data": {
            "image/png": "[encoded data removed]",
            "text/plain": [
              "<Figure size 432x288 with 1 Axes>"
            ]
          },
          "metadata": {
            "needs_background": "light"
          }
        }
      ]
    },
    {
      "cell_type": "code",
      "metadata": {
        "colab": {
          "base_uri": "https://localhost:8080/"
        },
        "id": "SgDhMO8ejRm6",
        "outputId": "c70a73c6-584d-4255-e27d-843f62b4dadf"
      },
      "source": [
        "# Frequency table for marital status\n",
        "#\n",
        "frequency_df.marital_status.value_counts()"
      ],
      "execution_count": null,
      "outputs": [
        {
          "output_type": "execute_result",
          "data": {
            "text/plain": [
              "Married/Living together    10700\n",
              "Single/Never Married       7903 \n",
              "Widowed                    2683 \n",
              "Divorced/Seperated         2049 \n",
              "Dont know                  8    \n",
              "Name: marital_status, dtype: int64"
            ]
          },
          "metadata": {},
          "execution_count": 70
        }
      ]
    },
    {
      "cell_type": "code",
      "metadata": {
        "colab": {
          "base_uri": "https://localhost:8080/",
          "height": 410
        },
        "id": "GtfcykqyA4dY",
        "outputId": "f09c4995-306a-49d7-d698-064d43b5ed5c"
      },
      "source": [
        "# Frequency table line graph visualization for marital status\n",
        "#\n",
        "df['marital_status'].value_counts().sort_index().plot.line()\n",
        "plt.xlabel('marital_status')\n",
        "plt.ylabel('frequency')\n",
        "plt.title('line graph visualization for marital status frequency')\n",
        "plt.legend()\n",
        "plt.xticks(rotation = 45)"
      ],
      "execution_count": null,
      "outputs": [
        {
          "output_type": "execute_result",
          "data": {
            "text/plain": [
              "(array([-0.5,  0. ,  0.5,  1. ,  1.5,  2. ,  2.5,  3. ,  3.5,  4. ,  4.5]),\n",
              " <a list of 11 Text major ticklabel objects>)"
            ]
          },
          "metadata": {},
          "execution_count": 116
        },
        {
          "output_type": "display_data",
          "data": {
            "image/png": "[encoded data removed]",
            "text/plain": [
              "<Figure size 432x288 with 1 Axes>"
            ]
          },
          "metadata": {
            "needs_background": "light"
          }
        }
      ]
    },
    {
      "cell_type": "code",
      "metadata": {
        "colab": {
          "base_uri": "https://localhost:8080/"
        },
        "id": "DC1hH7mijSRf",
        "outputId": "3820f1ee-e1ee-4392-f65f-d6ed6bcf4787"
      },
      "source": [
        "# Frequency table for job type\n",
        "#\n",
        "frequency_df.job_type.value_counts()"
      ],
      "execution_count": null,
      "outputs": [
        {
          "output_type": "execute_result",
          "data": {
            "text/plain": [
              "Self employed                   6361\n",
              "Informally employed             5550\n",
              "Farming and Fishing             5422\n",
              "Remittance Dependent            2509\n",
              "Other Income                    1077\n",
              "Formally employed Private       1048\n",
              "No Income                        618\n",
              "Formally employed Government     386\n",
              "Government Dependent             247\n",
              "Dont Know/Refuse to answer       125\n",
              "Name: job_type, dtype: int64"
            ]
          },
          "metadata": {},
          "execution_count": 118
        }
      ]
    },
    {
      "cell_type": "code",
      "metadata": {
        "id": "5je8zpwgBVBu",
        "colab": {
          "base_uri": "https://localhost:8080/",
          "height": 213
        },
        "outputId": "f0b55987-2398-415e-fa06-31243ad14e85"
      },
      "source": [
        "# selecting kenya dataframe subset\n",
        "#\n",
        "df.groupby(by=[\"country\"])\n",
        "df_kenya=df[:6068]\n",
        "df_kenya.head(3)"
      ],
      "execution_count": null,
      "outputs": [
        {
          "output_type": "execute_result",
          "data": {
            "text/html": [
              "<div>\n",
              "<style scoped>\n",
              "    .dataframe tbody tr th:only-of-type {\n",
              "        vertical-align: middle;\n",
              "    }\n",
              "\n",
              "    .dataframe tbody tr th {\n",
              "        vertical-align: top;\n",
              "    }\n",
              "\n",
              "    .dataframe thead th {\n",
              "        text-align: right;\n",
              "    }\n",
              "</style>\n",
              "<table border=\"1\" class=\"dataframe\">\n",
              "  <thead>\n",
              "    <tr style=\"text-align: right;\">\n",
              "      <th></th>\n",
              "      <th>country</th>\n",
              "      <th>year</th>\n",
              "      <th>uniqueid</th>\n",
              "      <th>has_a_Bank_account</th>\n",
              "      <th>location_type</th>\n",
              "      <th>cellphone_access</th>\n",
              "      <th>household_size</th>\n",
              "      <th>age_of_respondent</th>\n",
              "      <th>gender_of_respondent</th>\n",
              "      <th>relationship_with_head</th>\n",
              "      <th>marital_status</th>\n",
              "      <th>education_level</th>\n",
              "      <th>job_type</th>\n",
              "    </tr>\n",
              "  </thead>\n",
              "  <tbody>\n",
              "    <tr>\n",
              "      <th>0</th>\n",
              "      <td>Kenya</td>\n",
              "      <td>2018</td>\n",
              "      <td>uniqueid_1</td>\n",
              "      <td>Yes</td>\n",
              "      <td>Rural</td>\n",
              "      <td>Yes</td>\n",
              "      <td>3.0</td>\n",
              "      <td>24.0</td>\n",
              "      <td>Female</td>\n",
              "      <td>Spouse</td>\n",
              "      <td>Married/Living together</td>\n",
              "      <td>Secondary education</td>\n",
              "      <td>Self employed</td>\n",
              "    </tr>\n",
              "    <tr>\n",
              "      <th>1</th>\n",
              "      <td>Kenya</td>\n",
              "      <td>2018</td>\n",
              "      <td>uniqueid_2</td>\n",
              "      <td>No</td>\n",
              "      <td>Rural</td>\n",
              "      <td>No</td>\n",
              "      <td>5.0</td>\n",
              "      <td>70.0</td>\n",
              "      <td>Female</td>\n",
              "      <td>Head of Household</td>\n",
              "      <td>Widowed</td>\n",
              "      <td>No formal education</td>\n",
              "      <td>Government Dependent</td>\n",
              "    </tr>\n",
              "    <tr>\n",
              "      <th>2</th>\n",
              "      <td>Kenya</td>\n",
              "      <td>2018</td>\n",
              "      <td>uniqueid_3</td>\n",
              "      <td>Yes</td>\n",
              "      <td>Urban</td>\n",
              "      <td>Yes</td>\n",
              "      <td>5.0</td>\n",
              "      <td>26.0</td>\n",
              "      <td>Male</td>\n",
              "      <td>Other relative</td>\n",
              "      <td>Single/Never Married</td>\n",
              "      <td>Vocational/Specialised training</td>\n",
              "      <td>Self employed</td>\n",
              "    </tr>\n",
              "  </tbody>\n",
              "</table>\n",
              "</div>"
            ],
            "text/plain": [
              "  country  year  ...                  education_level              job_type\n",
              "0   Kenya  2018  ...              Secondary education         Self employed\n",
              "1   Kenya  2018  ...              No formal education  Government Dependent\n",
              "2   Kenya  2018  ...  Vocational/Specialised training         Self employed\n",
              "\n",
              "[3 rows x 13 columns]"
            ]
          },
          "metadata": {},
          "execution_count": 128
        }
      ]
    },
    {
      "cell_type": "code",
      "metadata": {
        "colab": {
          "base_uri": "https://localhost:8080/"
        },
        "id": "Dj7DFFLrBZWz",
        "outputId": "bfc96849-d046-4158-840e-4d8ec28ea8d4"
      },
      "source": [
        "# Frequency table for countries\n",
        "#\n",
        "df[\"country\"].value_counts()"
      ],
      "execution_count": null,
      "outputs": [
        {
          "output_type": "execute_result",
          "data": {
            "text/plain": [
              "Rwanda      8684\n",
              "Tanzania    6500\n",
              "Kenya       6064\n",
              "Uganda      2095\n",
              "Name: country, dtype: int64"
            ]
          },
          "metadata": {},
          "execution_count": 53
        }
      ]
    },
    {
      "cell_type": "code",
      "metadata": {
        "id": "8Q_lVZlsBeJf",
        "colab": {
          "base_uri": "https://localhost:8080/",
          "height": 213
        },
        "outputId": "b77336c7-8064-48a2-bccc-5d2c802b8f0c"
      },
      "source": [
        "# selecting Tanzania dataframe subset\n",
        "df.groupby(by=[\"country\"])\n",
        "\n",
        "# Split data frame countrywise\n",
        "df_tanazania=df[14803:21422]\n",
        "df_tanazania.head(3)"
      ],
      "execution_count": null,
      "outputs": [
        {
          "output_type": "execute_result",
          "data": {
            "text/html": [
              "<div>\n",
              "<style scoped>\n",
              "    .dataframe tbody tr th:only-of-type {\n",
              "        vertical-align: middle;\n",
              "    }\n",
              "\n",
              "    .dataframe tbody tr th {\n",
              "        vertical-align: top;\n",
              "    }\n",
              "\n",
              "    .dataframe thead th {\n",
              "        text-align: right;\n",
              "    }\n",
              "</style>\n",
              "<table border=\"1\" class=\"dataframe\">\n",
              "  <thead>\n",
              "    <tr style=\"text-align: right;\">\n",
              "      <th></th>\n",
              "      <th>country</th>\n",
              "      <th>year</th>\n",
              "      <th>uniqueid</th>\n",
              "      <th>has_a_Bank_account</th>\n",
              "      <th>location_type</th>\n",
              "      <th>cellphone_access</th>\n",
              "      <th>household_size</th>\n",
              "      <th>age_of_respondent</th>\n",
              "      <th>gender_of_respondent</th>\n",
              "      <th>relationship_with_head</th>\n",
              "      <th>marital_status</th>\n",
              "      <th>education_level</th>\n",
              "      <th>job_type</th>\n",
              "    </tr>\n",
              "  </thead>\n",
              "  <tbody>\n",
              "    <tr>\n",
              "      <th>14858</th>\n",
              "      <td>Tanzania</td>\n",
              "      <td>2017</td>\n",
              "      <td>uniqueid_56</td>\n",
              "      <td>Yes</td>\n",
              "      <td>Urban</td>\n",
              "      <td>Yes</td>\n",
              "      <td>1.0</td>\n",
              "      <td>42.0</td>\n",
              "      <td>Female</td>\n",
              "      <td>Head of Household</td>\n",
              "      <td>Married/Living together</td>\n",
              "      <td>Primary education</td>\n",
              "      <td>Informally employed</td>\n",
              "    </tr>\n",
              "    <tr>\n",
              "      <th>14859</th>\n",
              "      <td>Tanzania</td>\n",
              "      <td>2017</td>\n",
              "      <td>uniqueid_57</td>\n",
              "      <td>No</td>\n",
              "      <td>Urban</td>\n",
              "      <td>No</td>\n",
              "      <td>2.0</td>\n",
              "      <td>40.0</td>\n",
              "      <td>Female</td>\n",
              "      <td>Spouse</td>\n",
              "      <td>Single/Never Married</td>\n",
              "      <td>No formal education</td>\n",
              "      <td>Informally employed</td>\n",
              "    </tr>\n",
              "    <tr>\n",
              "      <th>14860</th>\n",
              "      <td>Tanzania</td>\n",
              "      <td>2017</td>\n",
              "      <td>uniqueid_58</td>\n",
              "      <td>No</td>\n",
              "      <td>Rural</td>\n",
              "      <td>Yes</td>\n",
              "      <td>2.0</td>\n",
              "      <td>21.0</td>\n",
              "      <td>Female</td>\n",
              "      <td>Spouse</td>\n",
              "      <td>Single/Never Married</td>\n",
              "      <td>Primary education</td>\n",
              "      <td>Informally employed</td>\n",
              "    </tr>\n",
              "  </tbody>\n",
              "</table>\n",
              "</div>"
            ],
            "text/plain": [
              "        country  year  ...      education_level             job_type\n",
              "14858  Tanzania  2017  ...    Primary education  Informally employed\n",
              "14859  Tanzania  2017  ...  No formal education  Informally employed\n",
              "14860  Tanzania  2017  ...    Primary education  Informally employed\n",
              "\n",
              "[3 rows x 13 columns]"
            ]
          },
          "metadata": {},
          "execution_count": 123
        }
      ]
    },
    {
      "cell_type": "code",
      "metadata": {
        "id": "1OPMo6ShB-zo",
        "colab": {
          "base_uri": "https://localhost:8080/",
          "height": 213
        },
        "outputId": "ecb1674e-16eb-4448-e4f2-b8d6d7247772"
      },
      "source": [
        "# selecting rwanda dataframe subset\n",
        "df.groupby(by=[\"country\"])\n",
        "\n",
        "df_rwanda=df[6068:14803]\n",
        "df_rwanda.head(3)\n"
      ],
      "execution_count": null,
      "outputs": [
        {
          "output_type": "execute_result",
          "data": {
            "text/html": [
              "<div>\n",
              "<style scoped>\n",
              "    .dataframe tbody tr th:only-of-type {\n",
              "        vertical-align: middle;\n",
              "    }\n",
              "\n",
              "    .dataframe tbody tr th {\n",
              "        vertical-align: top;\n",
              "    }\n",
              "\n",
              "    .dataframe thead th {\n",
              "        text-align: right;\n",
              "    }\n",
              "</style>\n",
              "<table border=\"1\" class=\"dataframe\">\n",
              "  <thead>\n",
              "    <tr style=\"text-align: right;\">\n",
              "      <th></th>\n",
              "      <th>country</th>\n",
              "      <th>year</th>\n",
              "      <th>uniqueid</th>\n",
              "      <th>has_a_Bank_account</th>\n",
              "      <th>location_type</th>\n",
              "      <th>cellphone_access</th>\n",
              "      <th>household_size</th>\n",
              "      <th>age_of_respondent</th>\n",
              "      <th>gender_of_respondent</th>\n",
              "      <th>relationship_with_head</th>\n",
              "      <th>marital_status</th>\n",
              "      <th>education_level</th>\n",
              "      <th>job_type</th>\n",
              "    </tr>\n",
              "  </thead>\n",
              "  <tbody>\n",
              "    <tr>\n",
              "      <th>6072</th>\n",
              "      <td>Rwanda</td>\n",
              "      <td>2016</td>\n",
              "      <td>uniqueid_5</td>\n",
              "      <td>No</td>\n",
              "      <td>Rural</td>\n",
              "      <td>No</td>\n",
              "      <td>4.0</td>\n",
              "      <td>17.0</td>\n",
              "      <td>Female</td>\n",
              "      <td>Child</td>\n",
              "      <td>Single/Never Married</td>\n",
              "      <td>Primary education</td>\n",
              "      <td>Informally employed</td>\n",
              "    </tr>\n",
              "    <tr>\n",
              "      <th>6073</th>\n",
              "      <td>Rwanda</td>\n",
              "      <td>2016</td>\n",
              "      <td>uniqueid_6</td>\n",
              "      <td>No</td>\n",
              "      <td>Rural</td>\n",
              "      <td>Yes</td>\n",
              "      <td>4.0</td>\n",
              "      <td>64.0</td>\n",
              "      <td>Female</td>\n",
              "      <td>Head of Household</td>\n",
              "      <td>Widowed</td>\n",
              "      <td>No formal education</td>\n",
              "      <td>Self employed</td>\n",
              "    </tr>\n",
              "    <tr>\n",
              "      <th>6074</th>\n",
              "      <td>Rwanda</td>\n",
              "      <td>2016</td>\n",
              "      <td>uniqueid_7</td>\n",
              "      <td>No</td>\n",
              "      <td>Rural</td>\n",
              "      <td>No</td>\n",
              "      <td>4.0</td>\n",
              "      <td>58.0</td>\n",
              "      <td>Female</td>\n",
              "      <td>Spouse</td>\n",
              "      <td>Married/Living together</td>\n",
              "      <td>No formal education</td>\n",
              "      <td>Informally employed</td>\n",
              "    </tr>\n",
              "  </tbody>\n",
              "</table>\n",
              "</div>"
            ],
            "text/plain": [
              "     country  year  ...      education_level             job_type\n",
              "6072  Rwanda  2016  ...    Primary education  Informally employed\n",
              "6073  Rwanda  2016  ...  No formal education        Self employed\n",
              "6074  Rwanda  2016  ...  No formal education  Informally employed\n",
              "\n",
              "[3 rows x 13 columns]"
            ]
          },
          "metadata": {},
          "execution_count": 122
        }
      ]
    },
    {
      "cell_type": "code",
      "metadata": {
        "colab": {
          "base_uri": "https://localhost:8080/",
          "height": 370
        },
        "id": "1sX82MBf3t24",
        "outputId": "794d0e95-53b2-4fa1-a399-576d8ad86320"
      },
      "source": [
        "# PEOPLE WITH & WITHOUT BANK ACC PER EDUCATION LEVEL IN RWANDA\n",
        "#\n",
        "plt.title('PEOPLE WITH & WITHOUT BANK ACC PER EDUCATION LEVEL IN RWANDA', fontsize=24)\n",
        "sns.countplot(df_rwanda[\"education_level\"], hue=df_rwanda[\"has_a_Bank_account\"])\n",
        "plt.xlabel('With & without Bank Acc', fontsize=(15))\n",
        "plt.ylabel(\"Number of people\", fontsize = (15))\n",
        "plt.legend()\n",
        "plt.xticks(rotation = 45)"
      ],
      "execution_count": null,
      "outputs": [
        {
          "output_type": "stream",
          "name": "stderr",
          "text": [
            "/usr/local/lib/python3.7/dist-packages/seaborn/_decorators.py:43: FutureWarning: Pass the following variable as a keyword arg: x. From version 0.12, the only valid positional argument will be `data`, and passing other arguments without an explicit keyword will result in an error or misinterpretation.\n",
            "  FutureWarning\n"
          ]
        },
        {
          "output_type": "execute_result",
          "data": {
            "text/plain": [
              "(array([0, 1, 2, 3, 4, 5]), <a list of 6 Text major ticklabel objects>)"
            ]
          },
          "metadata": {},
          "execution_count": 124
        },
        {
          "output_type": "display_data",
          "data": {
            "image/png": "[encoded data removed]",
            "text/plain": [
              "<Figure size 432x288 with 1 Axes>"
            ]
          },
          "metadata": {
            "needs_background": "light"
          }
        }
      ]
    },
    {
      "cell_type": "code",
      "metadata": {
        "colab": {
          "base_uri": "https://localhost:8080/",
          "height": 395
        },
        "id": "vxm7_zJICCZg",
        "outputId": "ac5c3c7c-6c46-417f-91a9-78ab7e0ea3b5"
      },
      "source": [
        "plt.title('PEOPLE WITH & WITHOUT BANK ACC PER LOCATION TYPE IN UGANDA', fontsize=24)\n",
        "plt.xticks(rotation = 45)\n",
        "df.groupby(by=[\"country\"])\n",
        "df_ug=df[21423:]\n",
        "sns.countplot(df_ug[\"location_type\"], hue=df_ug[\"has_a_Bank_account\"])"
      ],
      "execution_count": null,
      "outputs": [
        {
          "output_type": "stream",
          "name": "stderr",
          "text": [
            "/usr/local/lib/python3.7/dist-packages/seaborn/_decorators.py:43: FutureWarning: Pass the following variable as a keyword arg: x. From version 0.12, the only valid positional argument will be `data`, and passing other arguments without an explicit keyword will result in an error or misinterpretation.\n",
            "  FutureWarning\n"
          ]
        },
        {
          "output_type": "execute_result",
          "data": {
            "text/plain": [
              "<matplotlib.axes._subplots.AxesSubplot at 0x7f68d757e1d0>"
            ]
          },
          "metadata": {},
          "execution_count": 129
        },
        {
          "output_type": "display_data",
          "data": {
            "image/png": "[encoded data removed]",
            "text/plain": [
              "<Figure size 432x288 with 1 Axes>"
            ]
          },
          "metadata": {
            "needs_background": "light"
          }
        }
      ]
    },
    {
      "cell_type": "markdown",
      "metadata": {
        "id": "NfCRxczQWd0k"
      },
      "source": [
        "**BIVARIATE ANALYSIS**\n"
      ]
    },
    {
      "cell_type": "markdown",
      "metadata": {
        "id": "0GZQZEKbWnWP"
      },
      "source": [
        "**Bivariate Analysis - Numerical & Numerical**"
      ]
    },
    {
      "cell_type": "code",
      "metadata": {
        "colab": {
          "base_uri": "https://localhost:8080/",
          "height": 117
        },
        "id": "QMCq4WzIq8Fv",
        "outputId": "c6daf14a-8d0a-4af2-d734-85b8f1061854"
      },
      "source": [
        "df.head(1)"
      ],
      "execution_count": null,
      "outputs": [
        {
          "output_type": "execute_result",
          "data": {
            "text/html": [
              "<div>\n",
              "<style scoped>\n",
              "    .dataframe tbody tr th:only-of-type {\n",
              "        vertical-align: middle;\n",
              "    }\n",
              "\n",
              "    .dataframe tbody tr th {\n",
              "        vertical-align: top;\n",
              "    }\n",
              "\n",
              "    .dataframe thead th {\n",
              "        text-align: right;\n",
              "    }\n",
              "</style>\n",
              "<table border=\"1\" class=\"dataframe\">\n",
              "  <thead>\n",
              "    <tr style=\"text-align: right;\">\n",
              "      <th></th>\n",
              "      <th>country</th>\n",
              "      <th>year</th>\n",
              "      <th>uniqueid</th>\n",
              "      <th>has_a_Bank_account</th>\n",
              "      <th>location_type</th>\n",
              "      <th>cellphone_access</th>\n",
              "      <th>household_size</th>\n",
              "      <th>age_of_respondent</th>\n",
              "      <th>gender_of_respondent</th>\n",
              "      <th>relationship_with_head</th>\n",
              "      <th>marital_status</th>\n",
              "      <th>education_level</th>\n",
              "      <th>job_type</th>\n",
              "    </tr>\n",
              "  </thead>\n",
              "  <tbody>\n",
              "    <tr>\n",
              "      <th>0</th>\n",
              "      <td>Kenya</td>\n",
              "      <td>2018</td>\n",
              "      <td>uniqueid_1</td>\n",
              "      <td>Yes</td>\n",
              "      <td>Rural</td>\n",
              "      <td>Yes</td>\n",
              "      <td>3.0</td>\n",
              "      <td>24.0</td>\n",
              "      <td>Female</td>\n",
              "      <td>Spouse</td>\n",
              "      <td>Married/Living together</td>\n",
              "      <td>Secondary education</td>\n",
              "      <td>Self employed</td>\n",
              "    </tr>\n",
              "  </tbody>\n",
              "</table>\n",
              "</div>"
            ],
            "text/plain": [
              "  country  year  ...      education_level       job_type\n",
              "0   Kenya  2018  ...  Secondary education  Self employed\n",
              "\n",
              "[1 rows x 13 columns]"
            ]
          },
          "metadata": {},
          "execution_count": 130
        }
      ]
    },
    {
      "cell_type": "code",
      "metadata": {
        "colab": {
          "base_uri": "https://localhost:8080/",
          "height": 295
        },
        "id": "8ZU_9psYWvjz",
        "outputId": "14628c05-06fa-481b-99b2-3104af432c84"
      },
      "source": [
        "# A scatter plot is visual representation of the relationship between two numerical variables(household_size)&(\tRespondent Age)\n",
        "# (county, age of respondents, family members)\n",
        "# Using Pandas: Plotting our scatterplot to compare the variables\n",
        "df.plot(x = 'household_size', y = 'age_of_respondent', kind='scatter')\n",
        "\n",
        "# Or Using Matplotlib: Plotting our scatterplot to compare the variables\n",
        "plt.scatter(df[\"household_size\"] , df[\"age_of_respondent\"])\n",
        "\n",
        "# Or Using Seaborn: Using the function regplot to create our scatterplot\n",
        "sns.regplot(x = df[\"household_size\"], y = df[\"age_of_respondent\"], fit_reg=False)\n",
        "\n",
        "# Giving our scatterplot a title\n",
        "plt.title('household_size vs age_of_respondent')\n",
        "\n",
        "# Labelling our x axis\n",
        "plt.xlabel('household_size')\n",
        "\n",
        "# Labelling our y axis\n",
        "plt.ylabel('age_of_respondent')\n",
        "\n",
        "# We then display our scatterplot as shown below\n",
        "plt.show()\n"
      ],
      "execution_count": 133,
      "outputs": [
        {
          "output_type": "display_data",
          "data": {
            "image/png": "[encoded data removed]",
            "text/plain": [
              "<Figure size 432x288 with 1 Axes>"
            ]
          },
          "metadata": {
            "needs_background": "light"
          }
        }
      ]
    },
    {
      "cell_type": "code",
      "metadata": {
        "id": "FYGpaQPKXfz1",
        "colab": {
          "base_uri": "https://localhost:8080/"
        },
        "outputId": "1031a3a0-0f86-4367-8aa3-91b42d0e587a"
      },
      "source": [
        "# Linear correlation quantifies the strength of a linear relationship between two numerical variables.\n",
        "# r only measures the strength of a linear relationship and is always between -1 and 1 where -1 means perfect negative linear correlation and +1 means perfect positive linear correlation and zero means no linear correlation.\n",
        "# R LINEAR CORRELATION\n",
        "# COVAR-  Covariance\n",
        "# var variance\n",
        "# Calculating the pearson coefficient\n",
        "pearson_coeff = df[\"household_size\"].corr(df[\"age_of_respondent\"], method=\"pearson\") \n",
        "print(pearson_coeff)\n",
        "\n",
        "# Checking whether you have to define the pearson\n",
        "coeff = df[\"household_size\"].corr(df[\"age_of_respondent\"]) \n",
        "print(coeff)"
      ],
      "execution_count": 136,
      "outputs": [
        {
          "output_type": "stream",
          "name": "stdout",
          "text": [
            "-0.11970919507762415\n",
            "-0.11970919507762415\n"
          ]
        }
      ]
    },
    {
      "cell_type": "markdown",
      "metadata": {
        "id": "lrd7S7HQYci7"
      },
      "source": [
        "**Bivariate Analysis - Categorical & Categorical**"
      ]
    },
    {
      "cell_type": "code",
      "metadata": {
        "id": "_SACFEAPYgUD",
        "colab": {
          "base_uri": "https://localhost:8080/",
          "height": 1000
        },
        "outputId": "9e6c946b-7903-48a2-f66f-88ec35b469fb"
      },
      "source": [
        "# Stacked Column chart is a useful graph to visualize the relationship between two categorical variables.\n",
        "# It compares the percentage that each category from one variable contributes to a total across categories of the second variable. \n",
        "df[['household_size', 'age_of_respondent']].plot(kind='bar', figsize=(20, 18), stacked=True)\n",
        "\n",
        "# Rotating our x axis ticks\n",
        "plt.xticks(rotation = 45)\n",
        "\n",
        "# Giving our chart a title\n",
        "plt.title(\"household_size and age_of_respondent\", fontsize=14, y=1.015)\n",
        "\n",
        "# Labeling our y axis\n",
        "plt.ylabel(\"y axis\", fontsize=14, labelpad=15)\n",
        "\n",
        "# Labeling our x axis\n",
        "plt.xlabel(\"x axis\", fontsize=14, labelpad=15)\n",
        "\n",
        "# Displaying our chart\n",
        "plt.show()"
      ],
      "execution_count": 162,
      "outputs": [
        {
          "output_type": "display_data",
          "data": {
            "image/png": "[encoded data removed]",
            "text/plain": [
              "<Figure size 1440x1296 with 1 Axes>"
            ]
          },
          "metadata": {
            "needs_background": "light"
          }
        }
      ]
    },
    {
      "cell_type": "code",
      "metadata": {
        "id": "H0jRnMl4YxCM"
      },
      "source": [
        "# A combination chart uses two or more chart types to emphasize that the chart contains different kinds of information.\n",
        "# The combination chart is the best visualization method to demonstrate the predictability power of a predictor (X-axis) against a target (Y-axis)."
      ],
      "execution_count": null,
      "outputs": []
    },
    {
      "cell_type": "code",
      "metadata": {
        "id": "Ufax1wxhYqt6"
      },
      "source": [
        "# The chi-square test can be used to determine the association between categorical variables.\n",
        "# It is based on the difference between the expected frequencies (e) and the observed frequencies (n) in one or more categories in the frequency table.\n",
        "# A probability of zero shows a complete dependency between two categorical variables and a probability of one means that two categorical variables are completely independent."
      ],
      "execution_count": null,
      "outputs": []
    },
    {
      "cell_type": "markdown",
      "metadata": {
        "id": "wdBBj_tOaP7O"
      },
      "source": [
        "**Bivariate Analysis - Categorical & Numerical**"
      ]
    },
    {
      "cell_type": "code",
      "metadata": {
        "id": "4Ge-nIQLaVyh",
        "colab": {
          "base_uri": "https://localhost:8080/",
          "height": 300
        },
        "outputId": "09326f19-904c-4bd0-8433-d82383cf0c38"
      },
      "source": [
        "# A line chart with error bars displays information as a series of data points connected by straight line segments. \n",
        "# Each data point is average of the numerical data for the corresponding category of the categorical variable with error bar showing standard error.\n",
        "#\n",
        "# Plotting our line graph\n",
        "df[[\"age_of_respondent\"]].plot()\n",
        "\n",
        "# Giving a title to our line graph\n",
        "plt.title(\"age of 2016 to 2018\", fontsize=14, y=1.015)\n",
        "\n",
        "# Labelling the y-axis\n",
        "plt.ylabel('Y')\n",
        "\n",
        "# Labelling the x-axis\n",
        "plt.xlabel('x')\n",
        "\n",
        "# Displaying our graph\n",
        "plt.show()"
      ],
      "execution_count": 163,
      "outputs": [
        {
          "output_type": "display_data",
          "data": {
            "image/png": "[encoded data removed]",
            "text/plain": [
              "<Figure size 432x288 with 1 Axes>"
            ]
          },
          "metadata": {
            "needs_background": "light"
          }
        }
      ]
    },
    {
      "cell_type": "code",
      "metadata": {
        "id": "BTrfrsq6a0U1"
      },
      "source": [
        "# A combination chart uses two or more chart types to emphasize that the chart contains different kinds of information."
      ],
      "execution_count": null,
      "outputs": []
    },
    {
      "cell_type": "code",
      "metadata": {
        "id": "ObxQwONMbBJn"
      },
      "source": [
        "# we use a bar chart to show the distribution of a binned numerical variable and a line chart to show the percentage of the selected category from the categorical variable.\n",
        "# The combination chart is the best visualization method to demonstrate the predictability power of a predictor (X-axis) against a target (Y-axis)."
      ],
      "execution_count": null,
      "outputs": []
    },
    {
      "cell_type": "markdown",
      "metadata": {
        "id": "OqTkGKSlbMbV"
      },
      "source": [
        "**Z-test and t-test"
      ]
    },
    {
      "cell_type": "code",
      "metadata": {
        "id": "QxDAAyX5bQjc",
        "colab": {
          "base_uri": "https://localhost:8080/"
        },
        "outputId": "e632e7b6-7a5f-4928-cbc1-33ae943a10aa"
      },
      "source": [
        "# They assess whether the averages of two groups are statistically different from each other. \n",
        "# This analysis is appropriate for comparing the averages of a numerical variable for two categories of a categorical variable. \n",
        "#\n",
        "M = df['age_of_respondent'].to_numpy()\n",
        "stats.zscore(M)"
      ],
      "execution_count": 148,
      "outputs": [
        {
          "output_type": "execute_result",
          "data": {
            "text/plain": [
              "array([-0.89624712,  1.88834928, -0.77517771, ..., -0.71464301,\n",
              "       -0.53303889, -1.13838594])"
            ]
          },
          "metadata": {},
          "execution_count": 148
        }
      ]
    },
    {
      "cell_type": "code",
      "metadata": {
        "colab": {
          "base_uri": "https://localhost:8080/"
        },
        "id": "s9j10cliM_Iq",
        "outputId": "41a55a90-d7c7-4342-b551-6844bea3b266"
      },
      "source": [
        "df_mean = df[\"age_of_respondent\"].mean()\n",
        "df_mean1 = df[\"\"]\n",
        "expected_mean = 31\n",
        "\n",
        "# Calculating the t-test\n",
        "t_statistic, p_value = ttest_1samp(df_mean, expected_mean, axis = 0)\n",
        "\n",
        "# Then displaying the t-statistic\n",
        "t_statistic"
      ],
      "execution_count": 153,
      "outputs": [
        {
          "output_type": "stream",
          "name": "stderr",
          "text": [
            "/usr/local/lib/python3.7/dist-packages/numpy/core/fromnumeric.py:3622: RuntimeWarning: Degrees of freedom <= 0 for slice\n",
            "  **kwargs)\n",
            "/usr/local/lib/python3.7/dist-packages/numpy/core/_methods.py:226: RuntimeWarning: invalid value encountered in double_scalars\n",
            "  ret = ret.dtype.type(ret / rcount)\n"
          ]
        },
        {
          "output_type": "execute_result",
          "data": {
            "text/plain": [
              "nan"
            ]
          },
          "metadata": {},
          "execution_count": 153
        }
      ]
    },
    {
      "cell_type": "markdown",
      "metadata": {
        "id": "n_z-ySo-cie5"
      },
      "source": [
        "**Analysis of Variance (ANOVA)"
      ]
    },
    {
      "cell_type": "code",
      "metadata": {
        "id": "xy5VSGqSclMk"
      },
      "source": [
        "# The ANOVA test assesses whether the averages of more than two groups are statistically different from each other.\n",
        "# This analysis is appropriate for comparing the averages of a numerical variable for more than two categories of a categorical variable."
      ],
      "execution_count": null,
      "outputs": []
    },
    {
      "cell_type": "markdown",
      "metadata": {
        "id": "7jR0SD5liY63"
      },
      "source": [
        "**Hypothesis Testing**"
      ]
    },
    {
      "cell_type": "code",
      "metadata": {
        "id": "BC-SnJUzjWZ7"
      },
      "source": [
        "#1. State null (H0) and alternative (H1) hypothesis\n",
        "#   H0: M = what i currently believe\n",
        "#   H1: M=! = what is being claimed \n",
        "#        2 tailed test\n",
        "# *************************************\n",
        "#2. Choose level of significance(α)\n",
        "#     given in the problem\n",
        "#     area in the tails\n",
        "# *************************************\n",
        "#3. Find critical values\n",
        "#     t value = std unknown & sample size less than 30-- 1 Tailed test\n",
        "#     z valvalue /z table = standard deviation known\n",
        "# *************************************\n",
        "#4. find test statistic\n",
        "#     video\n",
        "# *************************************\n",
        "#5. Draw your conclussiconclusion "
      ],
      "execution_count": null,
      "outputs": []
    },
    {
      "cell_type": "code",
      "metadata": {
        "colab": {
          "base_uri": "https://localhost:8080/",
          "height": 163
        },
        "id": "VXIApE0VT6BA",
        "outputId": "e82184f1-6e73-4139-c74d-60c36e0b7c42"
      },
      "source": [
        "df.head(2)"
      ],
      "execution_count": 154,
      "outputs": [
        {
          "output_type": "execute_result",
          "data": {
            "text/html": [
              "<div>\n",
              "<style scoped>\n",
              "    .dataframe tbody tr th:only-of-type {\n",
              "        vertical-align: middle;\n",
              "    }\n",
              "\n",
              "    .dataframe tbody tr th {\n",
              "        vertical-align: top;\n",
              "    }\n",
              "\n",
              "    .dataframe thead th {\n",
              "        text-align: right;\n",
              "    }\n",
              "</style>\n",
              "<table border=\"1\" class=\"dataframe\">\n",
              "  <thead>\n",
              "    <tr style=\"text-align: right;\">\n",
              "      <th></th>\n",
              "      <th>country</th>\n",
              "      <th>year</th>\n",
              "      <th>uniqueid</th>\n",
              "      <th>has_a_Bank_account</th>\n",
              "      <th>location_type</th>\n",
              "      <th>cellphone_access</th>\n",
              "      <th>household_size</th>\n",
              "      <th>age_of_respondent</th>\n",
              "      <th>gender_of_respondent</th>\n",
              "      <th>relationship_with_head</th>\n",
              "      <th>marital_status</th>\n",
              "      <th>education_level</th>\n",
              "      <th>job_type</th>\n",
              "    </tr>\n",
              "  </thead>\n",
              "  <tbody>\n",
              "    <tr>\n",
              "      <th>0</th>\n",
              "      <td>Kenya</td>\n",
              "      <td>2018</td>\n",
              "      <td>uniqueid_1</td>\n",
              "      <td>Yes</td>\n",
              "      <td>Rural</td>\n",
              "      <td>Yes</td>\n",
              "      <td>3.0</td>\n",
              "      <td>24.0</td>\n",
              "      <td>Female</td>\n",
              "      <td>Spouse</td>\n",
              "      <td>Married/Living together</td>\n",
              "      <td>Secondary education</td>\n",
              "      <td>Self employed</td>\n",
              "    </tr>\n",
              "    <tr>\n",
              "      <th>1</th>\n",
              "      <td>Kenya</td>\n",
              "      <td>2018</td>\n",
              "      <td>uniqueid_2</td>\n",
              "      <td>No</td>\n",
              "      <td>Rural</td>\n",
              "      <td>No</td>\n",
              "      <td>5.0</td>\n",
              "      <td>70.0</td>\n",
              "      <td>Female</td>\n",
              "      <td>Head of Household</td>\n",
              "      <td>Widowed</td>\n",
              "      <td>No formal education</td>\n",
              "      <td>Government Dependent</td>\n",
              "    </tr>\n",
              "  </tbody>\n",
              "</table>\n",
              "</div>"
            ],
            "text/plain": [
              "  country  year  ...      education_level              job_type\n",
              "0   Kenya  2018  ...  Secondary education         Self employed\n",
              "1   Kenya  2018  ...  No formal education  Government Dependent\n",
              "\n",
              "[2 rows x 13 columns]"
            ]
          },
          "metadata": {},
          "execution_count": 154
        }
      ]
    },
    {
      "cell_type": "code",
      "metadata": {
        "colab": {
          "base_uri": "https://localhost:8080/",
          "height": 238
        },
        "id": "tkFzJIiOTj2c",
        "outputId": "24c28186-f81c-41e3-9260-410238502295"
      },
      "source": [
        "# Step 1: \n",
        "# Showing descriptive statistics from pandas.describe()\n",
        "# --- \n",
        "df.groupby(\"country\")['age_of_respondent'].describe()\n",
        "\n",
        "# Step 2: \n",
        "# Showing descriptive statistics from researchpy.summary_cont()\n",
        "# --- \n",
        "rp.summary_cont(df.groupby(\"country\")['age_of_respondent'])\n",
        "\n",
        "# Step 3: \n",
        "# Before the t-test can be conducted, the assumptions of the t-test need \n",
        "# to be checked to see if the t-test results can be trusted. The data which we will use must \n",
        "# meet those assumptions in order for the test results to be valid.\n",
        "# 1. The samples are independently and randomly drawn\n",
        "# 2. The distribution of the residuals between the two groups should follow the normal distribution\n",
        "# 3. The variances between the two groups are equal\n",
        "# If any of these assumptions are violated then another test should be used. \n",
        "# The dependent variable (outcome being measured) should be continuous which is measured on an interval or ratio scale.\n",
        "# --- \n",
        "stats.levene(setosa['age_of_respondent'], versicolor['age_of_respondent'])\n",
        "\n",
        "# Step 3:\n",
        "# We learn that the test is not significant meaning there is homogeneity of variances and we can proceed. \n",
        "# If the test were to be significant, a viable alternative would be to conduct a Welch’s t-test.\n",
        "\n",
        "# Step 4: \n",
        "# Next we test the assumption of normality. The residuals needs to be normally distributed. \n",
        "# To calculate the residuals between the groups, subtract the values of one group from the values of the other group.\n",
        "# --- \n",
        "diff = setosa['age_of_respondent'] - versicolor['age_of_respondent']\n",
        "\n",
        "# Step 5: \n",
        "# Checking for normality can be done visually or with a formula test. \n",
        "# Visually, one can use a p-p plot, a q-q plot, or histogram, and/or one can use the Shapiro-Wilk \n",
        "# test to formally test for normality. \n",
        "# To test for normality formally, use stats.shapiro() which is from the scipy.stats library that was imported. \n",
        "# First let’s check for normality visually with a p-p plot and a histogram plot.\n",
        "# --- \n",
        "stats.probplot(diff, plot= plt)\n",
        "plt.title('age_of_respondent P-P Plot') \n",
        "plt.show()\n",
        "\n",
        "# Step 5:\n",
        "# If you are unfamiliar with how to read a p-p or q-q plot, \n",
        "# the dots should fall on the red line. If the dots are not on the red line then it’s an indication that \n",
        "# there is deviation from normality. Some deviations from normality is fine, as long as it’s not severe.\n",
        "\n",
        "# Step 6:\n",
        "# The p-p plot shows that the data maintains normality. Let’s take a look at the histogram next.\n",
        "# --- \n",
        "diff.plot(kind= \"hist\", title= \"age_of_respondent Residuals\")\n",
        "plt.xlabel(\"******\") \n",
        "plt.show()\n",
        "\n",
        "\n",
        "# Step 7: \n",
        "# For the formal test on normality\n",
        "# --- \n",
        "stats.shapiro(diff)\n",
        "\n",
        "# Step 7: \n",
        "# The output is not labeled, but the first value is the W test statistic and the second value is the p-value. \n",
        "# Since the test statistic does not produce a significant p-value, the data is indicated to be normally distributed.\n",
        "# The data met all the assumptions for the t-test which indicates the results can be trusted \n",
        "# and the t-test is an appropriate test to be used.\n",
        "\n",
        "# Step 8: \n",
        "# To conduct the independent t-test using scipy.stats, use the stats.ttest_ind() method.\n",
        "# ---\n",
        "stats.ttest_ind(setosa['age_of_respondent'], versicolor['age_of_respondent'])\n",
        "\n",
        "# Conclusion:\n",
        "#"
      ],
      "execution_count": 161,
      "outputs": [
        {
          "output_type": "error",
          "ename": "NameError",
          "evalue": "ignored",
          "traceback": [
            "\u001b[0;31m---------------------------------------------------------------------------\u001b[0m",
            "\u001b[0;31mNameError\u001b[0m                                 Traceback (most recent call last)",
            "\u001b[0;32m<ipython-input-161-e77be6e443bc>\u001b[0m in \u001b[0;36m<module>\u001b[0;34m()\u001b[0m\n\u001b[1;32m     21\u001b[0m \u001b[0;31m# Showing descriptive statistics from researchpy.summary_cont()\u001b[0m\u001b[0;34m\u001b[0m\u001b[0;34m\u001b[0m\u001b[0;34m\u001b[0m\u001b[0m\n\u001b[1;32m     22\u001b[0m \u001b[0;31m# ---\u001b[0m\u001b[0;34m\u001b[0m\u001b[0;34m\u001b[0m\u001b[0;34m\u001b[0m\u001b[0m\n\u001b[0;32m---> 23\u001b[0;31m \u001b[0mrp\u001b[0m\u001b[0;34m.\u001b[0m\u001b[0msummary_cont\u001b[0m\u001b[0;34m(\u001b[0m\u001b[0mdf\u001b[0m\u001b[0;34m.\u001b[0m\u001b[0mgroupby\u001b[0m\u001b[0;34m(\u001b[0m\u001b[0;34m\"country\"\u001b[0m\u001b[0;34m)\u001b[0m\u001b[0;34m[\u001b[0m\u001b[0;34m'age_of_respondent'\u001b[0m\u001b[0;34m]\u001b[0m\u001b[0;34m)\u001b[0m\u001b[0;34m\u001b[0m\u001b[0;34m\u001b[0m\u001b[0m\n\u001b[0m\u001b[1;32m     24\u001b[0m \u001b[0;34m\u001b[0m\u001b[0m\n\u001b[1;32m     25\u001b[0m \u001b[0;31m# Step 3:\u001b[0m\u001b[0;34m\u001b[0m\u001b[0;34m\u001b[0m\u001b[0;34m\u001b[0m\u001b[0m\n",
            "\u001b[0;31mNameError\u001b[0m: name 'rp' is not defined"
          ]
        }
      ]
    }
  ]
}